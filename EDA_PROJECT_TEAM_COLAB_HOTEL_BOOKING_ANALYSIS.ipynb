{
  "nbformat": 4,
  "nbformat_minor": 0,
  "metadata": {
    "colab": {
      "provenance": [],
      "collapsed_sections": [
        "gIfDvo9L0UH2"
      ],
      "toc_visible": true,
      "include_colab_link": true
    },
    "kernelspec": {
      "name": "python3",
      "display_name": "Python 3"
    },
    "language_info": {
      "name": "python"
    },
    "gpuClass": "standard"
  },
  "cells": [
    {
      "cell_type": "markdown",
      "metadata": {
        "id": "view-in-github",
        "colab_type": "text"
      },
      "source": [
        "<a href=\"https://colab.research.google.com/github/pt3pt/EDA-capstone-01/blob/main/EDA_PROJECT_TEAM_COLAB_HOTEL_BOOKING_ANALYSIS.ipynb\" target=\"_parent\"><img src=\"https://colab.research.google.com/assets/colab-badge.svg\" alt=\"Open In Colab\"/></a>"
      ]
    },
    {
      "cell_type": "markdown",
      "source": [
        "# **Project Name**    - **HOTEL BOOKING ANALYSIS- EDA CAPSTONE PROJECT**\n",
        "\n"
      ],
      "metadata": {
        "id": "vncDsAP0Gaoa"
      }
    },
    {
      "cell_type": "markdown",
      "source": [
        "##### **Project Type**    - EDA\n",
        "##### **Contribution**    - Team\n",
        "##### **Team Member 1 - Javvadi L N S S Mangatayaru**\n",
        "##### **Team Member 2 - Divyanshu Singh Chamiyal**\n",
        "##### **Team Member 3 - Pragya Tiwari**\n"
      ],
      "metadata": {
        "id": "beRrZCGUAJYm"
      }
    },
    {
      "cell_type": "markdown",
      "source": [
        "# **Project Summary -**"
      ],
      "metadata": {
        "id": "FJNUwmbgGyua"
      }
    },
    {
      "cell_type": "markdown",
      "source": [
        "The hotel industry is a sector of business that revolves around providing accommodations for travelers. Travelers depend on hotels to supply a secure, pleasant place for a temporary stay. Whether the guests are business people for work, families on vacation, or groups of tourists, they all need comfortable accommodations, and they hotel industry is where they turn to find them.  In this hotel booking analysis project, we explored the reasons that are governing the overall bookings in the hotels and also suggested the ideas to improve the business of the hotels. Hotel industry is a volatile industry and the bookings in hotels depending on the variety of factors such as type of hotels, customers(Transient Party,Contract,Transient,Group), month, special requests, carparkings, meal type etc. We analyzed the data provided and found the insights that help to increase the average revenue of the hotels. The key metrics we used for analyzing the data are: \n",
        "NotCancelled bookings, \n",
        "Number of Cancellations, \n",
        "Customer types, \n",
        "Meal type (BB-Breakfast and Bed/FB-Full Board/HB-Half Board/SC-Self Catering), \n",
        "Car parkings, \n",
        "Special requests, \n",
        "revenue(ADR-Average Daily Rate), \n",
        "country wise guests, \n",
        "deposit type,\n",
        "lead time,\n",
        "room type,\n",
        "market segment. \n",
        "\n",
        "Variables:\n",
        "\n",
        "Hotel : H1= Resort Hotel , H2=City Hotel\n",
        "\n",
        "is_cancelled : If the booking was cancelled(1) or not(0)\n",
        "\n",
        "lead_time : Number of days that elapsed between the entering date of the booking into the PMS and the arrival date\n",
        "\n",
        "arrival_date_year : Year of arrival date\n",
        "\n",
        "arrival_date_month : Month of arrival date\n",
        "\n",
        "arrival_date_week_number : Week number for arrival date\n",
        "\n",
        "arrival_dat_day : Day of arrival date\n",
        "\n",
        "stays_in_weekend_nights : Number of weekend nights (Saturday or Sunday) the guest stayed or booked to stay at the hotel\n",
        "\n",
        "stays_in_week_nights : Number of week nights (Monday to Friday) the guest stayed or booked to stay at the hotel\n",
        "\n",
        "adults : Number of adults\n",
        "\n",
        "children : Number of children\n",
        "\n",
        "babies : Number of babies\n",
        "\n",
        "meal : Kind of meal opted for\n",
        "\n",
        "country : Country code\n",
        "\n",
        "market segment : Which segment the customer belongs to\n",
        "\n",
        "Distribution_channel : How the customer accessed the stay- corporate booking/Direct/TA.TO\n",
        "\n",
        "is_repeated_guest : Guest coming for first time or not\n",
        "\n",
        "previous_cancellation : Was there a cancellation before\n",
        "\n",
        "previous_bookings : Count of previous bookings\n",
        "\n",
        "reserved_room_type : Type of room reserved\n",
        "\n",
        "assigned_room_type : Type of room assigned\n",
        "\n",
        "booking changes : Count of changes made to booking\n",
        "\n",
        "deposit_type : Deposit type\n",
        "\n",
        "agent : Booked through agent\n",
        "\n",
        "days_in_waiting_list : Number of days in waiting list\n",
        "\n",
        "customer_type : Type of customer\n",
        "\n",
        "adr : Average Daily Revenue\n",
        "\n",
        "required_car_parking : If car parking is required\n",
        "\n",
        "total_of_special_req : Number of additional special requirements\n",
        "\n",
        "reservation_status : Reservation of status\n",
        "\n",
        "reservation_status_date : Date of the specific status\n",
        "\n",
        "total_stays : The sum of stays_in_weekend_nights and stays_in_week_nights. The amount of stay in hotel.\n",
        "\n",
        "From the data, it is clear that more nulls are present in \"company\" and \"agent\" columns. It is because many times the bookings may not be done using these two ways. So, intsead of dropping the values, we filled the misssing values with other value like zero. Since, the country column datatype is string the missing values here are replaced with other string data.There are also few nulls in children data so replace the nulls with mean of children's column. \n",
        "After cleaning the data, we added new columns like \"total stay\" for improving the analysis. From the correaltion we got the inference that revenue depends on the amount of stay of guests. The total stay and leap time also has slight positive correlation. \n",
        "The comparision between both the hotels is also done and we found that City Hotel has highest revenue and is providing more facilities than the resort hotel. We imported different packages like numpy,pandas,matplotlib,seaborn to analyze and pictorically representing the data. "
      ],
      "metadata": {
        "id": "J5um75HiCawu"
      }
    },
    {
      "cell_type": "markdown",
      "source": [
        "# **GitHub Link -**"
      ],
      "metadata": {
        "id": "w6K7xa23Elo4"
      }
    },
    {
      "cell_type": "markdown",
      "source": [
        "https://github.com/mangatayaru/EDA-CapstoneProject-1-Hotel-Booking-Analysis"
      ],
      "metadata": {
        "id": "h1o69JH3Eqqn"
      }
    },
    {
      "cell_type": "markdown",
      "source": [
        "# **Problem Statement**\n"
      ],
      "metadata": {
        "id": "yQaldy8SH6Dl"
      }
    },
    {
      "cell_type": "markdown",
      "source": [
        "1.WHICH HOTEL HAS MORE NUMBER OF BOOKINGS?\n",
        "\n",
        "2.WHICH MEAL IS PREFERRED THE MOST?\n",
        "\n",
        "3.WHICH DISTRIBUTION CHANNEL HAS MORE CANCELLED BOOKING?\n",
        "\n",
        "4.WHICH HOTEL HAS HIGH REVENUE?\n",
        "\n",
        "5.IN WHICH MONTH THE REVENUE IS MORE?\n",
        "\n",
        "6.TOP COUNTRIES WHICH HAVE BOOKING MORE THAN 1000?\n",
        "\n",
        "7.WHICH HOTEL HAS MORE CANCELLED BOOKINGS?\n",
        "\n",
        "8.WHAT IS THE MOST USED DEPOSIT TYPE BY THE GUESTS?\n",
        "\n",
        "9.WHICH CUSTOMERS ARE DEMANDING MORE SPECIAL REQUESTS?\n",
        "\n",
        "10.WHICH HOTEL IS PROVIDING MORE REQUIRED CAR PARKING SPACES?\n",
        "\n",
        "11.FROM WHICH MARKET SEGMENT THERE ARE MORE NUMBER OF BOOKINGS?\n",
        "\n",
        "12.WHICH ROOMTYPE GIVES MORE REVENUE?"
      ],
      "metadata": {
        "id": "YEwwtm4APqEP"
      }
    },
    {
      "cell_type": "markdown",
      "source": [
        "#### **Define Your Business Objective?**"
      ],
      "metadata": {
        "id": "PH-0ReGfmX4f"
      }
    },
    {
      "cell_type": "markdown",
      "source": [
        "To analyze the bookings of both the Hotels and to provide\n",
        "certain insights to improve the overall revenue, ambience and facilities of hotels if needed."
      ],
      "metadata": {
        "id": "PhDvGCAqmjP1"
      }
    },
    {
      "cell_type": "markdown",
      "source": [
        "# **General Guidelines** : -  "
      ],
      "metadata": {
        "id": "mDgbUHAGgjLW"
      }
    },
    {
      "cell_type": "markdown",
      "source": [
        "1.   Well-structured, formatted, and commented code is required. \n",
        "2.   Exception Handling, Production Grade Code & Deployment Ready Code will be a plus. Those students will be awarded some additional credits. \n",
        "     \n",
        "     The additional credits will have advantages over other students during Star Student selection.\n",
        "       \n",
        "             [ Note: - Deployment Ready Code is defined as, the whole .ipynb notebook should be executable in one go\n",
        "                       without a single error logged. ]\n",
        "\n",
        "3.   Each and every logic should have proper comments.\n",
        "4. You may add as many number of charts you want. Make Sure for each and every chart the following format should be answered.\n",
        "        \n",
        "\n",
        "```\n",
        "# Chart visualization code\n",
        "```\n",
        "            \n",
        "\n",
        "*   Why did you pick the specific chart?\n",
        "*   What is/are the insight(s) found from the chart?\n",
        "* Will the gained insights help creating a positive business impact? \n",
        "Are there any insights that lead to negative growth? Justify with specific reason.\n",
        "\n",
        "5. You have to create at least 20 logical & meaningful charts having important insights.\n",
        "\n",
        "\n",
        "[ Hints : - Do the Vizualization in  a structured way while following \"UBM\" Rule. \n",
        "\n",
        "U - Univariate Analysis,\n",
        "\n",
        "B - Bivariate Analysis (Numerical - Categorical, Numerical - Numerical, Categorical - Categorical)\n",
        "\n",
        "M - Multivariate Analysis\n",
        " ]\n",
        "\n",
        "\n",
        "\n"
      ],
      "metadata": {
        "id": "ZrxVaUj-hHfC"
      }
    },
    {
      "cell_type": "markdown",
      "source": [
        "# ***Let's Begin !***"
      ],
      "metadata": {
        "id": "O_i_v8NEhb9l"
      }
    },
    {
      "cell_type": "markdown",
      "source": [
        "## ***1. Know Your Data***"
      ],
      "metadata": {
        "id": "HhfV-JJviCcP"
      }
    },
    {
      "cell_type": "markdown",
      "source": [
        "### Import Libraries"
      ],
      "metadata": {
        "id": "Y3lxredqlCYt"
      }
    },
    {
      "cell_type": "code",
      "source": [
        "# Import Libraries"
      ],
      "metadata": {
        "id": "M8Vqi-pPk-HR"
      },
      "execution_count": null,
      "outputs": []
    },
    {
      "cell_type": "code",
      "source": [
        "import numpy as np\n",
        "import pandas as pd\n",
        "import matplotlib as plt\n",
        "import seaborn as sns\n",
        "import matplotlib.pyplot as plt #visualisation\n",
        "%matplotlib inline \n",
        "sns.set(color_codes=True)\n",
        "import warnings\n",
        "warnings.filterwarnings(\"ignore\")"
      ],
      "metadata": {
        "id": "ch0WplNzPJQO"
      },
      "execution_count": null,
      "outputs": []
    },
    {
      "cell_type": "markdown",
      "source": [
        "### Dataset Loading"
      ],
      "metadata": {
        "id": "3RnN4peoiCZX"
      }
    },
    {
      "cell_type": "code",
      "source": [
        "# Load Dataset"
      ],
      "metadata": {
        "id": "4CkvbW_SlZ_R"
      },
      "execution_count": null,
      "outputs": []
    },
    {
      "cell_type": "code",
      "source": [
        "raw_data=pd.read_csv(\"/content/Hotel Bookings.csv\")"
      ],
      "metadata": {
        "id": "FPrHvt6TPMpJ"
      },
      "execution_count": null,
      "outputs": []
    },
    {
      "cell_type": "markdown",
      "source": [
        "### Dataset First View"
      ],
      "metadata": {
        "id": "x71ZqKXriCWQ"
      }
    },
    {
      "cell_type": "code",
      "source": [
        "# Dataset First Look"
      ],
      "metadata": {
        "id": "LWNFOSvLl09H"
      },
      "execution_count": null,
      "outputs": []
    },
    {
      "cell_type": "code",
      "source": [
        "raw_data.head()"
      ],
      "metadata": {
        "id": "dt-Kzi39PP9x",
        "colab": {
          "base_uri": "https://localhost:8080/",
          "height": 386
        },
        "outputId": "7c826cce-5c05-440b-bb8c-7cb467f074aa"
      },
      "execution_count": null,
      "outputs": [
        {
          "output_type": "execute_result",
          "data": {
            "text/plain": [
              "          hotel  is_canceled  lead_time  arrival_date_year arrival_date_month  \\\n",
              "0  Resort Hotel            0        342               2015               July   \n",
              "1  Resort Hotel            0        737               2015               July   \n",
              "2  Resort Hotel            0          7               2015               July   \n",
              "3  Resort Hotel            0         13               2015               July   \n",
              "4  Resort Hotel            0         14               2015               July   \n",
              "\n",
              "   arrival_date_week_number  arrival_date_day_of_month  \\\n",
              "0                        27                          1   \n",
              "1                        27                          1   \n",
              "2                        27                          1   \n",
              "3                        27                          1   \n",
              "4                        27                          1   \n",
              "\n",
              "   stays_in_weekend_nights  stays_in_week_nights  adults  ...  deposit_type  \\\n",
              "0                        0                     0       2  ...    No Deposit   \n",
              "1                        0                     0       2  ...    No Deposit   \n",
              "2                        0                     1       1  ...    No Deposit   \n",
              "3                        0                     1       1  ...    No Deposit   \n",
              "4                        0                     2       2  ...    No Deposit   \n",
              "\n",
              "   agent company days_in_waiting_list customer_type   adr  \\\n",
              "0    NaN     NaN                    0     Transient   0.0   \n",
              "1    NaN     NaN                    0     Transient   0.0   \n",
              "2    NaN     NaN                    0     Transient  75.0   \n",
              "3  304.0     NaN                    0     Transient  75.0   \n",
              "4  240.0     NaN                    0     Transient  98.0   \n",
              "\n",
              "   required_car_parking_spaces  total_of_special_requests  reservation_status  \\\n",
              "0                            0                          0           Check-Out   \n",
              "1                            0                          0           Check-Out   \n",
              "2                            0                          0           Check-Out   \n",
              "3                            0                          0           Check-Out   \n",
              "4                            0                          1           Check-Out   \n",
              "\n",
              "  reservation_status_date  \n",
              "0              2015-07-01  \n",
              "1              2015-07-01  \n",
              "2              2015-07-02  \n",
              "3              2015-07-02  \n",
              "4              2015-07-03  \n",
              "\n",
              "[5 rows x 32 columns]"
            ],
            "text/html": [
              "\n",
              "  <div id=\"df-869677a7-0ae0-4483-918a-4fbc1b052220\">\n",
              "    <div class=\"colab-df-container\">\n",
              "      <div>\n",
              "<style scoped>\n",
              "    .dataframe tbody tr th:only-of-type {\n",
              "        vertical-align: middle;\n",
              "    }\n",
              "\n",
              "    .dataframe tbody tr th {\n",
              "        vertical-align: top;\n",
              "    }\n",
              "\n",
              "    .dataframe thead th {\n",
              "        text-align: right;\n",
              "    }\n",
              "</style>\n",
              "<table border=\"1\" class=\"dataframe\">\n",
              "  <thead>\n",
              "    <tr style=\"text-align: right;\">\n",
              "      <th></th>\n",
              "      <th>hotel</th>\n",
              "      <th>is_canceled</th>\n",
              "      <th>lead_time</th>\n",
              "      <th>arrival_date_year</th>\n",
              "      <th>arrival_date_month</th>\n",
              "      <th>arrival_date_week_number</th>\n",
              "      <th>arrival_date_day_of_month</th>\n",
              "      <th>stays_in_weekend_nights</th>\n",
              "      <th>stays_in_week_nights</th>\n",
              "      <th>adults</th>\n",
              "      <th>...</th>\n",
              "      <th>deposit_type</th>\n",
              "      <th>agent</th>\n",
              "      <th>company</th>\n",
              "      <th>days_in_waiting_list</th>\n",
              "      <th>customer_type</th>\n",
              "      <th>adr</th>\n",
              "      <th>required_car_parking_spaces</th>\n",
              "      <th>total_of_special_requests</th>\n",
              "      <th>reservation_status</th>\n",
              "      <th>reservation_status_date</th>\n",
              "    </tr>\n",
              "  </thead>\n",
              "  <tbody>\n",
              "    <tr>\n",
              "      <th>0</th>\n",
              "      <td>Resort Hotel</td>\n",
              "      <td>0</td>\n",
              "      <td>342</td>\n",
              "      <td>2015</td>\n",
              "      <td>July</td>\n",
              "      <td>27</td>\n",
              "      <td>1</td>\n",
              "      <td>0</td>\n",
              "      <td>0</td>\n",
              "      <td>2</td>\n",
              "      <td>...</td>\n",
              "      <td>No Deposit</td>\n",
              "      <td>NaN</td>\n",
              "      <td>NaN</td>\n",
              "      <td>0</td>\n",
              "      <td>Transient</td>\n",
              "      <td>0.0</td>\n",
              "      <td>0</td>\n",
              "      <td>0</td>\n",
              "      <td>Check-Out</td>\n",
              "      <td>2015-07-01</td>\n",
              "    </tr>\n",
              "    <tr>\n",
              "      <th>1</th>\n",
              "      <td>Resort Hotel</td>\n",
              "      <td>0</td>\n",
              "      <td>737</td>\n",
              "      <td>2015</td>\n",
              "      <td>July</td>\n",
              "      <td>27</td>\n",
              "      <td>1</td>\n",
              "      <td>0</td>\n",
              "      <td>0</td>\n",
              "      <td>2</td>\n",
              "      <td>...</td>\n",
              "      <td>No Deposit</td>\n",
              "      <td>NaN</td>\n",
              "      <td>NaN</td>\n",
              "      <td>0</td>\n",
              "      <td>Transient</td>\n",
              "      <td>0.0</td>\n",
              "      <td>0</td>\n",
              "      <td>0</td>\n",
              "      <td>Check-Out</td>\n",
              "      <td>2015-07-01</td>\n",
              "    </tr>\n",
              "    <tr>\n",
              "      <th>2</th>\n",
              "      <td>Resort Hotel</td>\n",
              "      <td>0</td>\n",
              "      <td>7</td>\n",
              "      <td>2015</td>\n",
              "      <td>July</td>\n",
              "      <td>27</td>\n",
              "      <td>1</td>\n",
              "      <td>0</td>\n",
              "      <td>1</td>\n",
              "      <td>1</td>\n",
              "      <td>...</td>\n",
              "      <td>No Deposit</td>\n",
              "      <td>NaN</td>\n",
              "      <td>NaN</td>\n",
              "      <td>0</td>\n",
              "      <td>Transient</td>\n",
              "      <td>75.0</td>\n",
              "      <td>0</td>\n",
              "      <td>0</td>\n",
              "      <td>Check-Out</td>\n",
              "      <td>2015-07-02</td>\n",
              "    </tr>\n",
              "    <tr>\n",
              "      <th>3</th>\n",
              "      <td>Resort Hotel</td>\n",
              "      <td>0</td>\n",
              "      <td>13</td>\n",
              "      <td>2015</td>\n",
              "      <td>July</td>\n",
              "      <td>27</td>\n",
              "      <td>1</td>\n",
              "      <td>0</td>\n",
              "      <td>1</td>\n",
              "      <td>1</td>\n",
              "      <td>...</td>\n",
              "      <td>No Deposit</td>\n",
              "      <td>304.0</td>\n",
              "      <td>NaN</td>\n",
              "      <td>0</td>\n",
              "      <td>Transient</td>\n",
              "      <td>75.0</td>\n",
              "      <td>0</td>\n",
              "      <td>0</td>\n",
              "      <td>Check-Out</td>\n",
              "      <td>2015-07-02</td>\n",
              "    </tr>\n",
              "    <tr>\n",
              "      <th>4</th>\n",
              "      <td>Resort Hotel</td>\n",
              "      <td>0</td>\n",
              "      <td>14</td>\n",
              "      <td>2015</td>\n",
              "      <td>July</td>\n",
              "      <td>27</td>\n",
              "      <td>1</td>\n",
              "      <td>0</td>\n",
              "      <td>2</td>\n",
              "      <td>2</td>\n",
              "      <td>...</td>\n",
              "      <td>No Deposit</td>\n",
              "      <td>240.0</td>\n",
              "      <td>NaN</td>\n",
              "      <td>0</td>\n",
              "      <td>Transient</td>\n",
              "      <td>98.0</td>\n",
              "      <td>0</td>\n",
              "      <td>1</td>\n",
              "      <td>Check-Out</td>\n",
              "      <td>2015-07-03</td>\n",
              "    </tr>\n",
              "  </tbody>\n",
              "</table>\n",
              "<p>5 rows × 32 columns</p>\n",
              "</div>\n",
              "      <button class=\"colab-df-convert\" onclick=\"convertToInteractive('df-869677a7-0ae0-4483-918a-4fbc1b052220')\"\n",
              "              title=\"Convert this dataframe to an interactive table.\"\n",
              "              style=\"display:none;\">\n",
              "        \n",
              "  <svg xmlns=\"http://www.w3.org/2000/svg\" height=\"24px\"viewBox=\"0 0 24 24\"\n",
              "       width=\"24px\">\n",
              "    <path d=\"M0 0h24v24H0V0z\" fill=\"none\"/>\n",
              "    <path d=\"M18.56 5.44l.94 2.06.94-2.06 2.06-.94-2.06-.94-.94-2.06-.94 2.06-2.06.94zm-11 1L8.5 8.5l.94-2.06 2.06-.94-2.06-.94L8.5 2.5l-.94 2.06-2.06.94zm10 10l.94 2.06.94-2.06 2.06-.94-2.06-.94-.94-2.06-.94 2.06-2.06.94z\"/><path d=\"M17.41 7.96l-1.37-1.37c-.4-.4-.92-.59-1.43-.59-.52 0-1.04.2-1.43.59L10.3 9.45l-7.72 7.72c-.78.78-.78 2.05 0 2.83L4 21.41c.39.39.9.59 1.41.59.51 0 1.02-.2 1.41-.59l7.78-7.78 2.81-2.81c.8-.78.8-2.07 0-2.86zM5.41 20L4 18.59l7.72-7.72 1.47 1.35L5.41 20z\"/>\n",
              "  </svg>\n",
              "      </button>\n",
              "      \n",
              "  <style>\n",
              "    .colab-df-container {\n",
              "      display:flex;\n",
              "      flex-wrap:wrap;\n",
              "      gap: 12px;\n",
              "    }\n",
              "\n",
              "    .colab-df-convert {\n",
              "      background-color: #E8F0FE;\n",
              "      border: none;\n",
              "      border-radius: 50%;\n",
              "      cursor: pointer;\n",
              "      display: none;\n",
              "      fill: #1967D2;\n",
              "      height: 32px;\n",
              "      padding: 0 0 0 0;\n",
              "      width: 32px;\n",
              "    }\n",
              "\n",
              "    .colab-df-convert:hover {\n",
              "      background-color: #E2EBFA;\n",
              "      box-shadow: 0px 1px 2px rgba(60, 64, 67, 0.3), 0px 1px 3px 1px rgba(60, 64, 67, 0.15);\n",
              "      fill: #174EA6;\n",
              "    }\n",
              "\n",
              "    [theme=dark] .colab-df-convert {\n",
              "      background-color: #3B4455;\n",
              "      fill: #D2E3FC;\n",
              "    }\n",
              "\n",
              "    [theme=dark] .colab-df-convert:hover {\n",
              "      background-color: #434B5C;\n",
              "      box-shadow: 0px 1px 3px 1px rgba(0, 0, 0, 0.15);\n",
              "      filter: drop-shadow(0px 1px 2px rgba(0, 0, 0, 0.3));\n",
              "      fill: #FFFFFF;\n",
              "    }\n",
              "  </style>\n",
              "\n",
              "      <script>\n",
              "        const buttonEl =\n",
              "          document.querySelector('#df-869677a7-0ae0-4483-918a-4fbc1b052220 button.colab-df-convert');\n",
              "        buttonEl.style.display =\n",
              "          google.colab.kernel.accessAllowed ? 'block' : 'none';\n",
              "\n",
              "        async function convertToInteractive(key) {\n",
              "          const element = document.querySelector('#df-869677a7-0ae0-4483-918a-4fbc1b052220');\n",
              "          const dataTable =\n",
              "            await google.colab.kernel.invokeFunction('convertToInteractive',\n",
              "                                                     [key], {});\n",
              "          if (!dataTable) return;\n",
              "\n",
              "          const docLinkHtml = 'Like what you see? Visit the ' +\n",
              "            '<a target=\"_blank\" href=https://colab.research.google.com/notebooks/data_table.ipynb>data table notebook</a>'\n",
              "            + ' to learn more about interactive tables.';\n",
              "          element.innerHTML = '';\n",
              "          dataTable['output_type'] = 'display_data';\n",
              "          await google.colab.output.renderOutput(dataTable, element);\n",
              "          const docLink = document.createElement('div');\n",
              "          docLink.innerHTML = docLinkHtml;\n",
              "          element.appendChild(docLink);\n",
              "        }\n",
              "      </script>\n",
              "    </div>\n",
              "  </div>\n",
              "  "
            ]
          },
          "metadata": {},
          "execution_count": 6
        }
      ]
    },
    {
      "cell_type": "markdown",
      "source": [
        "### Dataset Rows & Columns count"
      ],
      "metadata": {
        "id": "7hBIi_osiCS2"
      }
    },
    {
      "cell_type": "code",
      "source": [
        "# Dataset Rows & Columns count"
      ],
      "metadata": {
        "id": "Kllu7SJgmLij"
      },
      "execution_count": null,
      "outputs": []
    },
    {
      "cell_type": "code",
      "source": [
        "raw_data.shape"
      ],
      "metadata": {
        "id": "D_jqaGihPYbl",
        "colab": {
          "base_uri": "https://localhost:8080/"
        },
        "outputId": "c2f45e74-c93b-45e6-95e7-5702aea411d2"
      },
      "execution_count": null,
      "outputs": [
        {
          "output_type": "execute_result",
          "data": {
            "text/plain": [
              "(119390, 32)"
            ]
          },
          "metadata": {},
          "execution_count": 8
        }
      ]
    },
    {
      "cell_type": "markdown",
      "source": [
        "### Dataset Information"
      ],
      "metadata": {
        "id": "JlHwYmJAmNHm"
      }
    },
    {
      "cell_type": "code",
      "source": [
        "# Dataset Info"
      ],
      "metadata": {
        "id": "e9hRXRi6meOf"
      },
      "execution_count": null,
      "outputs": []
    },
    {
      "cell_type": "code",
      "source": [
        "raw_data.info()"
      ],
      "metadata": {
        "id": "iyeKaFGe0NLa",
        "colab": {
          "base_uri": "https://localhost:8080/"
        },
        "outputId": "4b2fe0e8-946e-4505-d65f-d0c5018d05a7"
      },
      "execution_count": null,
      "outputs": [
        {
          "output_type": "stream",
          "name": "stdout",
          "text": [
            "<class 'pandas.core.frame.DataFrame'>\n",
            "RangeIndex: 119390 entries, 0 to 119389\n",
            "Data columns (total 32 columns):\n",
            " #   Column                          Non-Null Count   Dtype  \n",
            "---  ------                          --------------   -----  \n",
            " 0   hotel                           119390 non-null  object \n",
            " 1   is_canceled                     119390 non-null  int64  \n",
            " 2   lead_time                       119390 non-null  int64  \n",
            " 3   arrival_date_year               119390 non-null  int64  \n",
            " 4   arrival_date_month              119390 non-null  object \n",
            " 5   arrival_date_week_number        119390 non-null  int64  \n",
            " 6   arrival_date_day_of_month       119390 non-null  int64  \n",
            " 7   stays_in_weekend_nights         119390 non-null  int64  \n",
            " 8   stays_in_week_nights            119390 non-null  int64  \n",
            " 9   adults                          119390 non-null  int64  \n",
            " 10  children                        119386 non-null  float64\n",
            " 11  babies                          119390 non-null  int64  \n",
            " 12  meal                            119390 non-null  object \n",
            " 13  country                         118902 non-null  object \n",
            " 14  market_segment                  119390 non-null  object \n",
            " 15  distribution_channel            119390 non-null  object \n",
            " 16  is_repeated_guest               119390 non-null  int64  \n",
            " 17  previous_cancellations          119390 non-null  int64  \n",
            " 18  previous_bookings_not_canceled  119390 non-null  int64  \n",
            " 19  reserved_room_type              119390 non-null  object \n",
            " 20  assigned_room_type              119390 non-null  object \n",
            " 21  booking_changes                 119390 non-null  int64  \n",
            " 22  deposit_type                    119390 non-null  object \n",
            " 23  agent                           103050 non-null  float64\n",
            " 24  company                         6797 non-null    float64\n",
            " 25  days_in_waiting_list            119390 non-null  int64  \n",
            " 26  customer_type                   119390 non-null  object \n",
            " 27  adr                             119390 non-null  float64\n",
            " 28  required_car_parking_spaces     119390 non-null  int64  \n",
            " 29  total_of_special_requests       119390 non-null  int64  \n",
            " 30  reservation_status              119390 non-null  object \n",
            " 31  reservation_status_date         119390 non-null  object \n",
            "dtypes: float64(4), int64(16), object(12)\n",
            "memory usage: 29.1+ MB\n"
          ]
        }
      ]
    },
    {
      "cell_type": "markdown",
      "source": [
        "#### Duplicate Values"
      ],
      "metadata": {
        "id": "35m5QtbWiB9F"
      }
    },
    {
      "cell_type": "code",
      "source": [
        "# Dataset Duplicate Value Count"
      ],
      "metadata": {
        "id": "1sLdpKYkmox0"
      },
      "execution_count": null,
      "outputs": []
    },
    {
      "cell_type": "code",
      "source": [
        "data = raw_data.drop_duplicates()\n",
        "data.head()"
      ],
      "metadata": {
        "id": "DOw1Q6h00Rjw",
        "colab": {
          "base_uri": "https://localhost:8080/",
          "height": 386
        },
        "outputId": "8fc324da-b91f-46d9-938a-869ba856d899"
      },
      "execution_count": null,
      "outputs": [
        {
          "output_type": "execute_result",
          "data": {
            "text/plain": [
              "          hotel  is_canceled  lead_time  arrival_date_year arrival_date_month  \\\n",
              "0  Resort Hotel            0        342               2015               July   \n",
              "1  Resort Hotel            0        737               2015               July   \n",
              "2  Resort Hotel            0          7               2015               July   \n",
              "3  Resort Hotel            0         13               2015               July   \n",
              "4  Resort Hotel            0         14               2015               July   \n",
              "\n",
              "   arrival_date_week_number  arrival_date_day_of_month  \\\n",
              "0                        27                          1   \n",
              "1                        27                          1   \n",
              "2                        27                          1   \n",
              "3                        27                          1   \n",
              "4                        27                          1   \n",
              "\n",
              "   stays_in_weekend_nights  stays_in_week_nights  adults  ...  deposit_type  \\\n",
              "0                        0                     0       2  ...    No Deposit   \n",
              "1                        0                     0       2  ...    No Deposit   \n",
              "2                        0                     1       1  ...    No Deposit   \n",
              "3                        0                     1       1  ...    No Deposit   \n",
              "4                        0                     2       2  ...    No Deposit   \n",
              "\n",
              "   agent company days_in_waiting_list customer_type   adr  \\\n",
              "0    NaN     NaN                    0     Transient   0.0   \n",
              "1    NaN     NaN                    0     Transient   0.0   \n",
              "2    NaN     NaN                    0     Transient  75.0   \n",
              "3  304.0     NaN                    0     Transient  75.0   \n",
              "4  240.0     NaN                    0     Transient  98.0   \n",
              "\n",
              "   required_car_parking_spaces  total_of_special_requests  reservation_status  \\\n",
              "0                            0                          0           Check-Out   \n",
              "1                            0                          0           Check-Out   \n",
              "2                            0                          0           Check-Out   \n",
              "3                            0                          0           Check-Out   \n",
              "4                            0                          1           Check-Out   \n",
              "\n",
              "  reservation_status_date  \n",
              "0              2015-07-01  \n",
              "1              2015-07-01  \n",
              "2              2015-07-02  \n",
              "3              2015-07-02  \n",
              "4              2015-07-03  \n",
              "\n",
              "[5 rows x 32 columns]"
            ],
            "text/html": [
              "\n",
              "  <div id=\"df-81a6c86e-947a-451b-9719-0aceb70b8c26\">\n",
              "    <div class=\"colab-df-container\">\n",
              "      <div>\n",
              "<style scoped>\n",
              "    .dataframe tbody tr th:only-of-type {\n",
              "        vertical-align: middle;\n",
              "    }\n",
              "\n",
              "    .dataframe tbody tr th {\n",
              "        vertical-align: top;\n",
              "    }\n",
              "\n",
              "    .dataframe thead th {\n",
              "        text-align: right;\n",
              "    }\n",
              "</style>\n",
              "<table border=\"1\" class=\"dataframe\">\n",
              "  <thead>\n",
              "    <tr style=\"text-align: right;\">\n",
              "      <th></th>\n",
              "      <th>hotel</th>\n",
              "      <th>is_canceled</th>\n",
              "      <th>lead_time</th>\n",
              "      <th>arrival_date_year</th>\n",
              "      <th>arrival_date_month</th>\n",
              "      <th>arrival_date_week_number</th>\n",
              "      <th>arrival_date_day_of_month</th>\n",
              "      <th>stays_in_weekend_nights</th>\n",
              "      <th>stays_in_week_nights</th>\n",
              "      <th>adults</th>\n",
              "      <th>...</th>\n",
              "      <th>deposit_type</th>\n",
              "      <th>agent</th>\n",
              "      <th>company</th>\n",
              "      <th>days_in_waiting_list</th>\n",
              "      <th>customer_type</th>\n",
              "      <th>adr</th>\n",
              "      <th>required_car_parking_spaces</th>\n",
              "      <th>total_of_special_requests</th>\n",
              "      <th>reservation_status</th>\n",
              "      <th>reservation_status_date</th>\n",
              "    </tr>\n",
              "  </thead>\n",
              "  <tbody>\n",
              "    <tr>\n",
              "      <th>0</th>\n",
              "      <td>Resort Hotel</td>\n",
              "      <td>0</td>\n",
              "      <td>342</td>\n",
              "      <td>2015</td>\n",
              "      <td>July</td>\n",
              "      <td>27</td>\n",
              "      <td>1</td>\n",
              "      <td>0</td>\n",
              "      <td>0</td>\n",
              "      <td>2</td>\n",
              "      <td>...</td>\n",
              "      <td>No Deposit</td>\n",
              "      <td>NaN</td>\n",
              "      <td>NaN</td>\n",
              "      <td>0</td>\n",
              "      <td>Transient</td>\n",
              "      <td>0.0</td>\n",
              "      <td>0</td>\n",
              "      <td>0</td>\n",
              "      <td>Check-Out</td>\n",
              "      <td>2015-07-01</td>\n",
              "    </tr>\n",
              "    <tr>\n",
              "      <th>1</th>\n",
              "      <td>Resort Hotel</td>\n",
              "      <td>0</td>\n",
              "      <td>737</td>\n",
              "      <td>2015</td>\n",
              "      <td>July</td>\n",
              "      <td>27</td>\n",
              "      <td>1</td>\n",
              "      <td>0</td>\n",
              "      <td>0</td>\n",
              "      <td>2</td>\n",
              "      <td>...</td>\n",
              "      <td>No Deposit</td>\n",
              "      <td>NaN</td>\n",
              "      <td>NaN</td>\n",
              "      <td>0</td>\n",
              "      <td>Transient</td>\n",
              "      <td>0.0</td>\n",
              "      <td>0</td>\n",
              "      <td>0</td>\n",
              "      <td>Check-Out</td>\n",
              "      <td>2015-07-01</td>\n",
              "    </tr>\n",
              "    <tr>\n",
              "      <th>2</th>\n",
              "      <td>Resort Hotel</td>\n",
              "      <td>0</td>\n",
              "      <td>7</td>\n",
              "      <td>2015</td>\n",
              "      <td>July</td>\n",
              "      <td>27</td>\n",
              "      <td>1</td>\n",
              "      <td>0</td>\n",
              "      <td>1</td>\n",
              "      <td>1</td>\n",
              "      <td>...</td>\n",
              "      <td>No Deposit</td>\n",
              "      <td>NaN</td>\n",
              "      <td>NaN</td>\n",
              "      <td>0</td>\n",
              "      <td>Transient</td>\n",
              "      <td>75.0</td>\n",
              "      <td>0</td>\n",
              "      <td>0</td>\n",
              "      <td>Check-Out</td>\n",
              "      <td>2015-07-02</td>\n",
              "    </tr>\n",
              "    <tr>\n",
              "      <th>3</th>\n",
              "      <td>Resort Hotel</td>\n",
              "      <td>0</td>\n",
              "      <td>13</td>\n",
              "      <td>2015</td>\n",
              "      <td>July</td>\n",
              "      <td>27</td>\n",
              "      <td>1</td>\n",
              "      <td>0</td>\n",
              "      <td>1</td>\n",
              "      <td>1</td>\n",
              "      <td>...</td>\n",
              "      <td>No Deposit</td>\n",
              "      <td>304.0</td>\n",
              "      <td>NaN</td>\n",
              "      <td>0</td>\n",
              "      <td>Transient</td>\n",
              "      <td>75.0</td>\n",
              "      <td>0</td>\n",
              "      <td>0</td>\n",
              "      <td>Check-Out</td>\n",
              "      <td>2015-07-02</td>\n",
              "    </tr>\n",
              "    <tr>\n",
              "      <th>4</th>\n",
              "      <td>Resort Hotel</td>\n",
              "      <td>0</td>\n",
              "      <td>14</td>\n",
              "      <td>2015</td>\n",
              "      <td>July</td>\n",
              "      <td>27</td>\n",
              "      <td>1</td>\n",
              "      <td>0</td>\n",
              "      <td>2</td>\n",
              "      <td>2</td>\n",
              "      <td>...</td>\n",
              "      <td>No Deposit</td>\n",
              "      <td>240.0</td>\n",
              "      <td>NaN</td>\n",
              "      <td>0</td>\n",
              "      <td>Transient</td>\n",
              "      <td>98.0</td>\n",
              "      <td>0</td>\n",
              "      <td>1</td>\n",
              "      <td>Check-Out</td>\n",
              "      <td>2015-07-03</td>\n",
              "    </tr>\n",
              "  </tbody>\n",
              "</table>\n",
              "<p>5 rows × 32 columns</p>\n",
              "</div>\n",
              "      <button class=\"colab-df-convert\" onclick=\"convertToInteractive('df-81a6c86e-947a-451b-9719-0aceb70b8c26')\"\n",
              "              title=\"Convert this dataframe to an interactive table.\"\n",
              "              style=\"display:none;\">\n",
              "        \n",
              "  <svg xmlns=\"http://www.w3.org/2000/svg\" height=\"24px\"viewBox=\"0 0 24 24\"\n",
              "       width=\"24px\">\n",
              "    <path d=\"M0 0h24v24H0V0z\" fill=\"none\"/>\n",
              "    <path d=\"M18.56 5.44l.94 2.06.94-2.06 2.06-.94-2.06-.94-.94-2.06-.94 2.06-2.06.94zm-11 1L8.5 8.5l.94-2.06 2.06-.94-2.06-.94L8.5 2.5l-.94 2.06-2.06.94zm10 10l.94 2.06.94-2.06 2.06-.94-2.06-.94-.94-2.06-.94 2.06-2.06.94z\"/><path d=\"M17.41 7.96l-1.37-1.37c-.4-.4-.92-.59-1.43-.59-.52 0-1.04.2-1.43.59L10.3 9.45l-7.72 7.72c-.78.78-.78 2.05 0 2.83L4 21.41c.39.39.9.59 1.41.59.51 0 1.02-.2 1.41-.59l7.78-7.78 2.81-2.81c.8-.78.8-2.07 0-2.86zM5.41 20L4 18.59l7.72-7.72 1.47 1.35L5.41 20z\"/>\n",
              "  </svg>\n",
              "      </button>\n",
              "      \n",
              "  <style>\n",
              "    .colab-df-container {\n",
              "      display:flex;\n",
              "      flex-wrap:wrap;\n",
              "      gap: 12px;\n",
              "    }\n",
              "\n",
              "    .colab-df-convert {\n",
              "      background-color: #E8F0FE;\n",
              "      border: none;\n",
              "      border-radius: 50%;\n",
              "      cursor: pointer;\n",
              "      display: none;\n",
              "      fill: #1967D2;\n",
              "      height: 32px;\n",
              "      padding: 0 0 0 0;\n",
              "      width: 32px;\n",
              "    }\n",
              "\n",
              "    .colab-df-convert:hover {\n",
              "      background-color: #E2EBFA;\n",
              "      box-shadow: 0px 1px 2px rgba(60, 64, 67, 0.3), 0px 1px 3px 1px rgba(60, 64, 67, 0.15);\n",
              "      fill: #174EA6;\n",
              "    }\n",
              "\n",
              "    [theme=dark] .colab-df-convert {\n",
              "      background-color: #3B4455;\n",
              "      fill: #D2E3FC;\n",
              "    }\n",
              "\n",
              "    [theme=dark] .colab-df-convert:hover {\n",
              "      background-color: #434B5C;\n",
              "      box-shadow: 0px 1px 3px 1px rgba(0, 0, 0, 0.15);\n",
              "      filter: drop-shadow(0px 1px 2px rgba(0, 0, 0, 0.3));\n",
              "      fill: #FFFFFF;\n",
              "    }\n",
              "  </style>\n",
              "\n",
              "      <script>\n",
              "        const buttonEl =\n",
              "          document.querySelector('#df-81a6c86e-947a-451b-9719-0aceb70b8c26 button.colab-df-convert');\n",
              "        buttonEl.style.display =\n",
              "          google.colab.kernel.accessAllowed ? 'block' : 'none';\n",
              "\n",
              "        async function convertToInteractive(key) {\n",
              "          const element = document.querySelector('#df-81a6c86e-947a-451b-9719-0aceb70b8c26');\n",
              "          const dataTable =\n",
              "            await google.colab.kernel.invokeFunction('convertToInteractive',\n",
              "                                                     [key], {});\n",
              "          if (!dataTable) return;\n",
              "\n",
              "          const docLinkHtml = 'Like what you see? Visit the ' +\n",
              "            '<a target=\"_blank\" href=https://colab.research.google.com/notebooks/data_table.ipynb>data table notebook</a>'\n",
              "            + ' to learn more about interactive tables.';\n",
              "          element.innerHTML = '';\n",
              "          dataTable['output_type'] = 'display_data';\n",
              "          await google.colab.output.renderOutput(dataTable, element);\n",
              "          const docLink = document.createElement('div');\n",
              "          docLink.innerHTML = docLinkHtml;\n",
              "          element.appendChild(docLink);\n",
              "        }\n",
              "      </script>\n",
              "    </div>\n",
              "  </div>\n",
              "  "
            ]
          },
          "metadata": {},
          "execution_count": 12
        }
      ]
    },
    {
      "cell_type": "markdown",
      "source": [
        "#### Missing Values/Null Values"
      ],
      "metadata": {
        "id": "PoPl-ycgm1ru"
      }
    },
    {
      "cell_type": "code",
      "source": [
        "# Missing Values/Null Values Count"
      ],
      "metadata": {
        "id": "GgHWkxvamxVg"
      },
      "execution_count": null,
      "outputs": []
    },
    {
      "cell_type": "code",
      "source": [
        "data.isnull().sum().sort_values(ascending=False)[:10]"
      ],
      "metadata": {
        "id": "Pk0RfebP0uBb",
        "colab": {
          "base_uri": "https://localhost:8080/"
        },
        "outputId": "5c77937f-0440-44fc-bb29-ac798e1d884d"
      },
      "execution_count": null,
      "outputs": [
        {
          "output_type": "execute_result",
          "data": {
            "text/plain": [
              "company                   82137\n",
              "agent                     12193\n",
              "country                     452\n",
              "children                      4\n",
              "reserved_room_type            0\n",
              "assigned_room_type            0\n",
              "booking_changes               0\n",
              "deposit_type                  0\n",
              "hotel                         0\n",
              "previous_cancellations        0\n",
              "dtype: int64"
            ]
          },
          "metadata": {},
          "execution_count": 14
        }
      ]
    },
    {
      "cell_type": "markdown",
      "source": [
        "From the data, it is clear that more nulls are present in \"company\" and \"agent\" columns. It is because many times the bookings may not be done using these two ways. So, intsead of dropping the values, it is better to fill the misssing values with other value."
      ],
      "metadata": {
        "id": "qeompOTH3dS1"
      }
    },
    {
      "cell_type": "code",
      "source": [
        "# Visualizing the missing values"
      ],
      "metadata": {
        "id": "3q5wnI3om9sJ"
      },
      "execution_count": null,
      "outputs": []
    },
    {
      "cell_type": "code",
      "source": [
        "#Filling the null values in \"company\" column with zero\n",
        "data[\"company\"].fillna(0,inplace = True)"
      ],
      "metadata": {
        "id": "PXUv4Dd90zn6"
      },
      "execution_count": null,
      "outputs": []
    },
    {
      "cell_type": "code",
      "source": [
        "#Filling the null values in \"agent\" column with zero\n",
        "data[\"agent\"].fillna(0,inplace = True)"
      ],
      "metadata": {
        "id": "OBP67h0l3W5w"
      },
      "execution_count": null,
      "outputs": []
    },
    {
      "cell_type": "code",
      "source": [
        "#Filling the null values in \"country\" column with \"Country not mentioned\"\n",
        "data['country'].fillna(\"N/A\",inplace = True)"
      ],
      "metadata": {
        "id": "yiCzFaYJ3YqB"
      },
      "execution_count": null,
      "outputs": []
    },
    {
      "cell_type": "markdown",
      "source": [
        "Since, the country column datatype is string the missing values here are replaced with other string data.\n",
        "\n"
      ],
      "metadata": {
        "id": "GhG5oB723hHe"
      }
    },
    {
      "cell_type": "code",
      "source": [
        "#Filling the null values in \"children\" column with mean of children\n",
        "data[\"children\"].fillna(data['children'].mean(),inplace = True)"
      ],
      "metadata": {
        "id": "8xNLSWK_3ar-"
      },
      "execution_count": null,
      "outputs": []
    },
    {
      "cell_type": "markdown",
      "source": [
        "There are also few nulls in children data so replace the nulls with mean of children's column."
      ],
      "metadata": {
        "id": "B1-DB5Aq3r5M"
      }
    },
    {
      "cell_type": "code",
      "source": [
        "data.isnull().sum().sort_values(ascending=False)"
      ],
      "metadata": {
        "id": "H2wPuS893w9b",
        "colab": {
          "base_uri": "https://localhost:8080/"
        },
        "outputId": "3a768749-205b-4bc4-ce99-cd3c7849dde8"
      },
      "execution_count": null,
      "outputs": [
        {
          "output_type": "execute_result",
          "data": {
            "text/plain": [
              "hotel                             0\n",
              "is_canceled                       0\n",
              "reservation_status                0\n",
              "total_of_special_requests         0\n",
              "required_car_parking_spaces       0\n",
              "adr                               0\n",
              "customer_type                     0\n",
              "days_in_waiting_list              0\n",
              "company                           0\n",
              "agent                             0\n",
              "deposit_type                      0\n",
              "booking_changes                   0\n",
              "assigned_room_type                0\n",
              "reserved_room_type                0\n",
              "previous_bookings_not_canceled    0\n",
              "previous_cancellations            0\n",
              "is_repeated_guest                 0\n",
              "distribution_channel              0\n",
              "market_segment                    0\n",
              "country                           0\n",
              "meal                              0\n",
              "babies                            0\n",
              "children                          0\n",
              "adults                            0\n",
              "stays_in_week_nights              0\n",
              "stays_in_weekend_nights           0\n",
              "arrival_date_day_of_month         0\n",
              "arrival_date_week_number          0\n",
              "arrival_date_month                0\n",
              "arrival_date_year                 0\n",
              "lead_time                         0\n",
              "reservation_status_date           0\n",
              "dtype: int64"
            ]
          },
          "metadata": {},
          "execution_count": 20
        }
      ]
    },
    {
      "cell_type": "code",
      "source": [
        "data.shape"
      ],
      "metadata": {
        "id": "lW_J-0Iv3z3D",
        "colab": {
          "base_uri": "https://localhost:8080/"
        },
        "outputId": "fb6adc53-169b-40a6-b66f-89c208336544"
      },
      "execution_count": null,
      "outputs": [
        {
          "output_type": "execute_result",
          "data": {
            "text/plain": [
              "(87396, 32)"
            ]
          },
          "metadata": {},
          "execution_count": 21
        }
      ]
    },
    {
      "cell_type": "markdown",
      "source": [],
      "metadata": {
        "id": "wcvVq1Tn51Az"
      }
    },
    {
      "cell_type": "code",
      "source": [
        "data[\"total_stays\"] = data[\"stays_in_weekend_nights\"]+data[\"stays_in_week_nights\"]"
      ],
      "metadata": {
        "id": "FkYyTXRL5xZs"
      },
      "execution_count": null,
      "outputs": []
    },
    {
      "cell_type": "markdown",
      "source": [
        "### What did you know about your dataset?"
      ],
      "metadata": {
        "id": "H0kj-8xxnORC"
      }
    },
    {
      "cell_type": "markdown",
      "source": [
        "The hotel booking dataset has total 32 columns and 119390 rows. The data contains the booking related information of two hotels : City Hotel and Resort Hotel. The data regarding their cancellations,revenue etc, is also provided to create the insights for to meet the customer reuirements and increasing the hotel revenue."
      ],
      "metadata": {
        "id": "gfoNAAC-nUe_"
      }
    },
    {
      "cell_type": "markdown",
      "source": [
        "## ***2. Understanding Your Variables***"
      ],
      "metadata": {
        "id": "nA9Y7ga8ng1Z"
      }
    },
    {
      "cell_type": "code",
      "source": [
        "# Dataset Columns"
      ],
      "metadata": {
        "id": "j7xfkqrt5Ag5"
      },
      "execution_count": null,
      "outputs": []
    },
    {
      "cell_type": "code",
      "source": [
        "data.columns"
      ],
      "metadata": {
        "id": "FZ7QOO_l03U2",
        "colab": {
          "base_uri": "https://localhost:8080/"
        },
        "outputId": "640020c1-b301-4f2b-faab-7b4ef9dffddf"
      },
      "execution_count": null,
      "outputs": [
        {
          "output_type": "execute_result",
          "data": {
            "text/plain": [
              "Index(['hotel', 'is_canceled', 'lead_time', 'arrival_date_year',\n",
              "       'arrival_date_month', 'arrival_date_week_number',\n",
              "       'arrival_date_day_of_month', 'stays_in_weekend_nights',\n",
              "       'stays_in_week_nights', 'adults', 'children', 'babies', 'meal',\n",
              "       'country', 'market_segment', 'distribution_channel',\n",
              "       'is_repeated_guest', 'previous_cancellations',\n",
              "       'previous_bookings_not_canceled', 'reserved_room_type',\n",
              "       'assigned_room_type', 'booking_changes', 'deposit_type', 'agent',\n",
              "       'company', 'days_in_waiting_list', 'customer_type', 'adr',\n",
              "       'required_car_parking_spaces', 'total_of_special_requests',\n",
              "       'reservation_status', 'reservation_status_date', 'total_stays'],\n",
              "      dtype='object')"
            ]
          },
          "metadata": {},
          "execution_count": 24
        }
      ]
    },
    {
      "cell_type": "code",
      "source": [
        "# Dataset Describe"
      ],
      "metadata": {
        "id": "DnOaZdaE5Q5t"
      },
      "execution_count": null,
      "outputs": []
    },
    {
      "cell_type": "code",
      "source": [
        "data.describe()"
      ],
      "metadata": {
        "id": "hbmE0IkI03vO",
        "colab": {
          "base_uri": "https://localhost:8080/",
          "height": 393
        },
        "outputId": "ecdcc8a9-3336-4b99-d4d6-018e91e91b50"
      },
      "execution_count": null,
      "outputs": [
        {
          "output_type": "execute_result",
          "data": {
            "text/plain": [
              "        is_canceled     lead_time  arrival_date_year  \\\n",
              "count  87396.000000  87396.000000       87396.000000   \n",
              "mean       0.274898     79.891368        2016.210296   \n",
              "std        0.446466     86.052325           0.686102   \n",
              "min        0.000000      0.000000        2015.000000   \n",
              "25%        0.000000     11.000000        2016.000000   \n",
              "50%        0.000000     49.000000        2016.000000   \n",
              "75%        1.000000    125.000000        2017.000000   \n",
              "max        1.000000    737.000000        2017.000000   \n",
              "\n",
              "       arrival_date_week_number  arrival_date_day_of_month  \\\n",
              "count              87396.000000               87396.000000   \n",
              "mean                  26.838334                  15.815541   \n",
              "std                   13.674572                   8.835146   \n",
              "min                    1.000000                   1.000000   \n",
              "25%                   16.000000                   8.000000   \n",
              "50%                   27.000000                  16.000000   \n",
              "75%                   37.000000                  23.000000   \n",
              "max                   53.000000                  31.000000   \n",
              "\n",
              "       stays_in_weekend_nights  stays_in_week_nights        adults  \\\n",
              "count             87396.000000          87396.000000  87396.000000   \n",
              "mean                  1.005263              2.625395      1.875795   \n",
              "std                   1.031921              2.053584      0.626500   \n",
              "min                   0.000000              0.000000      0.000000   \n",
              "25%                   0.000000              1.000000      2.000000   \n",
              "50%                   1.000000              2.000000      2.000000   \n",
              "75%                   2.000000              4.000000      2.000000   \n",
              "max                  19.000000             50.000000     55.000000   \n",
              "\n",
              "          children        babies  ...  previous_cancellations  \\\n",
              "count  87396.00000  87396.000000  ...            87396.000000   \n",
              "mean       0.13864      0.010824  ...                0.030413   \n",
              "std        0.45587      0.113597  ...                0.369145   \n",
              "min        0.00000      0.000000  ...                0.000000   \n",
              "25%        0.00000      0.000000  ...                0.000000   \n",
              "50%        0.00000      0.000000  ...                0.000000   \n",
              "75%        0.00000      0.000000  ...                0.000000   \n",
              "max       10.00000     10.000000  ...               26.000000   \n",
              "\n",
              "       previous_bookings_not_canceled  booking_changes         agent  \\\n",
              "count                    87396.000000     87396.000000  87396.000000   \n",
              "mean                         0.183990         0.271603     81.004657   \n",
              "std                          1.731894         0.727245    109.945638   \n",
              "min                          0.000000         0.000000      0.000000   \n",
              "25%                          0.000000         0.000000      9.000000   \n",
              "50%                          0.000000         0.000000      9.000000   \n",
              "75%                          0.000000         0.000000    234.000000   \n",
              "max                         72.000000        21.000000    535.000000   \n",
              "\n",
              "            company  days_in_waiting_list           adr  \\\n",
              "count  87396.000000          87396.000000  87396.000000   \n",
              "mean      11.016809              0.749565    106.337246   \n",
              "std       54.047484             10.015731     55.013953   \n",
              "min        0.000000              0.000000     -6.380000   \n",
              "25%        0.000000              0.000000     72.000000   \n",
              "50%        0.000000              0.000000     98.100000   \n",
              "75%        0.000000              0.000000    134.000000   \n",
              "max      543.000000            391.000000   5400.000000   \n",
              "\n",
              "       required_car_parking_spaces  total_of_special_requests   total_stays  \n",
              "count                 87396.000000               87396.000000  87396.000000  \n",
              "mean                      0.084226                   0.698567      3.630658  \n",
              "std                       0.281533                   0.831946      2.763449  \n",
              "min                       0.000000                   0.000000      0.000000  \n",
              "25%                       0.000000                   0.000000      2.000000  \n",
              "50%                       0.000000                   0.000000      3.000000  \n",
              "75%                       0.000000                   1.000000      5.000000  \n",
              "max                       8.000000                   5.000000     69.000000  \n",
              "\n",
              "[8 rows x 21 columns]"
            ],
            "text/html": [
              "\n",
              "  <div id=\"df-910473c2-d016-4ff9-b9e0-780fe4e8d008\">\n",
              "    <div class=\"colab-df-container\">\n",
              "      <div>\n",
              "<style scoped>\n",
              "    .dataframe tbody tr th:only-of-type {\n",
              "        vertical-align: middle;\n",
              "    }\n",
              "\n",
              "    .dataframe tbody tr th {\n",
              "        vertical-align: top;\n",
              "    }\n",
              "\n",
              "    .dataframe thead th {\n",
              "        text-align: right;\n",
              "    }\n",
              "</style>\n",
              "<table border=\"1\" class=\"dataframe\">\n",
              "  <thead>\n",
              "    <tr style=\"text-align: right;\">\n",
              "      <th></th>\n",
              "      <th>is_canceled</th>\n",
              "      <th>lead_time</th>\n",
              "      <th>arrival_date_year</th>\n",
              "      <th>arrival_date_week_number</th>\n",
              "      <th>arrival_date_day_of_month</th>\n",
              "      <th>stays_in_weekend_nights</th>\n",
              "      <th>stays_in_week_nights</th>\n",
              "      <th>adults</th>\n",
              "      <th>children</th>\n",
              "      <th>babies</th>\n",
              "      <th>...</th>\n",
              "      <th>previous_cancellations</th>\n",
              "      <th>previous_bookings_not_canceled</th>\n",
              "      <th>booking_changes</th>\n",
              "      <th>agent</th>\n",
              "      <th>company</th>\n",
              "      <th>days_in_waiting_list</th>\n",
              "      <th>adr</th>\n",
              "      <th>required_car_parking_spaces</th>\n",
              "      <th>total_of_special_requests</th>\n",
              "      <th>total_stays</th>\n",
              "    </tr>\n",
              "  </thead>\n",
              "  <tbody>\n",
              "    <tr>\n",
              "      <th>count</th>\n",
              "      <td>87396.000000</td>\n",
              "      <td>87396.000000</td>\n",
              "      <td>87396.000000</td>\n",
              "      <td>87396.000000</td>\n",
              "      <td>87396.000000</td>\n",
              "      <td>87396.000000</td>\n",
              "      <td>87396.000000</td>\n",
              "      <td>87396.000000</td>\n",
              "      <td>87396.00000</td>\n",
              "      <td>87396.000000</td>\n",
              "      <td>...</td>\n",
              "      <td>87396.000000</td>\n",
              "      <td>87396.000000</td>\n",
              "      <td>87396.000000</td>\n",
              "      <td>87396.000000</td>\n",
              "      <td>87396.000000</td>\n",
              "      <td>87396.000000</td>\n",
              "      <td>87396.000000</td>\n",
              "      <td>87396.000000</td>\n",
              "      <td>87396.000000</td>\n",
              "      <td>87396.000000</td>\n",
              "    </tr>\n",
              "    <tr>\n",
              "      <th>mean</th>\n",
              "      <td>0.274898</td>\n",
              "      <td>79.891368</td>\n",
              "      <td>2016.210296</td>\n",
              "      <td>26.838334</td>\n",
              "      <td>15.815541</td>\n",
              "      <td>1.005263</td>\n",
              "      <td>2.625395</td>\n",
              "      <td>1.875795</td>\n",
              "      <td>0.13864</td>\n",
              "      <td>0.010824</td>\n",
              "      <td>...</td>\n",
              "      <td>0.030413</td>\n",
              "      <td>0.183990</td>\n",
              "      <td>0.271603</td>\n",
              "      <td>81.004657</td>\n",
              "      <td>11.016809</td>\n",
              "      <td>0.749565</td>\n",
              "      <td>106.337246</td>\n",
              "      <td>0.084226</td>\n",
              "      <td>0.698567</td>\n",
              "      <td>3.630658</td>\n",
              "    </tr>\n",
              "    <tr>\n",
              "      <th>std</th>\n",
              "      <td>0.446466</td>\n",
              "      <td>86.052325</td>\n",
              "      <td>0.686102</td>\n",
              "      <td>13.674572</td>\n",
              "      <td>8.835146</td>\n",
              "      <td>1.031921</td>\n",
              "      <td>2.053584</td>\n",
              "      <td>0.626500</td>\n",
              "      <td>0.45587</td>\n",
              "      <td>0.113597</td>\n",
              "      <td>...</td>\n",
              "      <td>0.369145</td>\n",
              "      <td>1.731894</td>\n",
              "      <td>0.727245</td>\n",
              "      <td>109.945638</td>\n",
              "      <td>54.047484</td>\n",
              "      <td>10.015731</td>\n",
              "      <td>55.013953</td>\n",
              "      <td>0.281533</td>\n",
              "      <td>0.831946</td>\n",
              "      <td>2.763449</td>\n",
              "    </tr>\n",
              "    <tr>\n",
              "      <th>min</th>\n",
              "      <td>0.000000</td>\n",
              "      <td>0.000000</td>\n",
              "      <td>2015.000000</td>\n",
              "      <td>1.000000</td>\n",
              "      <td>1.000000</td>\n",
              "      <td>0.000000</td>\n",
              "      <td>0.000000</td>\n",
              "      <td>0.000000</td>\n",
              "      <td>0.00000</td>\n",
              "      <td>0.000000</td>\n",
              "      <td>...</td>\n",
              "      <td>0.000000</td>\n",
              "      <td>0.000000</td>\n",
              "      <td>0.000000</td>\n",
              "      <td>0.000000</td>\n",
              "      <td>0.000000</td>\n",
              "      <td>0.000000</td>\n",
              "      <td>-6.380000</td>\n",
              "      <td>0.000000</td>\n",
              "      <td>0.000000</td>\n",
              "      <td>0.000000</td>\n",
              "    </tr>\n",
              "    <tr>\n",
              "      <th>25%</th>\n",
              "      <td>0.000000</td>\n",
              "      <td>11.000000</td>\n",
              "      <td>2016.000000</td>\n",
              "      <td>16.000000</td>\n",
              "      <td>8.000000</td>\n",
              "      <td>0.000000</td>\n",
              "      <td>1.000000</td>\n",
              "      <td>2.000000</td>\n",
              "      <td>0.00000</td>\n",
              "      <td>0.000000</td>\n",
              "      <td>...</td>\n",
              "      <td>0.000000</td>\n",
              "      <td>0.000000</td>\n",
              "      <td>0.000000</td>\n",
              "      <td>9.000000</td>\n",
              "      <td>0.000000</td>\n",
              "      <td>0.000000</td>\n",
              "      <td>72.000000</td>\n",
              "      <td>0.000000</td>\n",
              "      <td>0.000000</td>\n",
              "      <td>2.000000</td>\n",
              "    </tr>\n",
              "    <tr>\n",
              "      <th>50%</th>\n",
              "      <td>0.000000</td>\n",
              "      <td>49.000000</td>\n",
              "      <td>2016.000000</td>\n",
              "      <td>27.000000</td>\n",
              "      <td>16.000000</td>\n",
              "      <td>1.000000</td>\n",
              "      <td>2.000000</td>\n",
              "      <td>2.000000</td>\n",
              "      <td>0.00000</td>\n",
              "      <td>0.000000</td>\n",
              "      <td>...</td>\n",
              "      <td>0.000000</td>\n",
              "      <td>0.000000</td>\n",
              "      <td>0.000000</td>\n",
              "      <td>9.000000</td>\n",
              "      <td>0.000000</td>\n",
              "      <td>0.000000</td>\n",
              "      <td>98.100000</td>\n",
              "      <td>0.000000</td>\n",
              "      <td>0.000000</td>\n",
              "      <td>3.000000</td>\n",
              "    </tr>\n",
              "    <tr>\n",
              "      <th>75%</th>\n",
              "      <td>1.000000</td>\n",
              "      <td>125.000000</td>\n",
              "      <td>2017.000000</td>\n",
              "      <td>37.000000</td>\n",
              "      <td>23.000000</td>\n",
              "      <td>2.000000</td>\n",
              "      <td>4.000000</td>\n",
              "      <td>2.000000</td>\n",
              "      <td>0.00000</td>\n",
              "      <td>0.000000</td>\n",
              "      <td>...</td>\n",
              "      <td>0.000000</td>\n",
              "      <td>0.000000</td>\n",
              "      <td>0.000000</td>\n",
              "      <td>234.000000</td>\n",
              "      <td>0.000000</td>\n",
              "      <td>0.000000</td>\n",
              "      <td>134.000000</td>\n",
              "      <td>0.000000</td>\n",
              "      <td>1.000000</td>\n",
              "      <td>5.000000</td>\n",
              "    </tr>\n",
              "    <tr>\n",
              "      <th>max</th>\n",
              "      <td>1.000000</td>\n",
              "      <td>737.000000</td>\n",
              "      <td>2017.000000</td>\n",
              "      <td>53.000000</td>\n",
              "      <td>31.000000</td>\n",
              "      <td>19.000000</td>\n",
              "      <td>50.000000</td>\n",
              "      <td>55.000000</td>\n",
              "      <td>10.00000</td>\n",
              "      <td>10.000000</td>\n",
              "      <td>...</td>\n",
              "      <td>26.000000</td>\n",
              "      <td>72.000000</td>\n",
              "      <td>21.000000</td>\n",
              "      <td>535.000000</td>\n",
              "      <td>543.000000</td>\n",
              "      <td>391.000000</td>\n",
              "      <td>5400.000000</td>\n",
              "      <td>8.000000</td>\n",
              "      <td>5.000000</td>\n",
              "      <td>69.000000</td>\n",
              "    </tr>\n",
              "  </tbody>\n",
              "</table>\n",
              "<p>8 rows × 21 columns</p>\n",
              "</div>\n",
              "      <button class=\"colab-df-convert\" onclick=\"convertToInteractive('df-910473c2-d016-4ff9-b9e0-780fe4e8d008')\"\n",
              "              title=\"Convert this dataframe to an interactive table.\"\n",
              "              style=\"display:none;\">\n",
              "        \n",
              "  <svg xmlns=\"http://www.w3.org/2000/svg\" height=\"24px\"viewBox=\"0 0 24 24\"\n",
              "       width=\"24px\">\n",
              "    <path d=\"M0 0h24v24H0V0z\" fill=\"none\"/>\n",
              "    <path d=\"M18.56 5.44l.94 2.06.94-2.06 2.06-.94-2.06-.94-.94-2.06-.94 2.06-2.06.94zm-11 1L8.5 8.5l.94-2.06 2.06-.94-2.06-.94L8.5 2.5l-.94 2.06-2.06.94zm10 10l.94 2.06.94-2.06 2.06-.94-2.06-.94-.94-2.06-.94 2.06-2.06.94z\"/><path d=\"M17.41 7.96l-1.37-1.37c-.4-.4-.92-.59-1.43-.59-.52 0-1.04.2-1.43.59L10.3 9.45l-7.72 7.72c-.78.78-.78 2.05 0 2.83L4 21.41c.39.39.9.59 1.41.59.51 0 1.02-.2 1.41-.59l7.78-7.78 2.81-2.81c.8-.78.8-2.07 0-2.86zM5.41 20L4 18.59l7.72-7.72 1.47 1.35L5.41 20z\"/>\n",
              "  </svg>\n",
              "      </button>\n",
              "      \n",
              "  <style>\n",
              "    .colab-df-container {\n",
              "      display:flex;\n",
              "      flex-wrap:wrap;\n",
              "      gap: 12px;\n",
              "    }\n",
              "\n",
              "    .colab-df-convert {\n",
              "      background-color: #E8F0FE;\n",
              "      border: none;\n",
              "      border-radius: 50%;\n",
              "      cursor: pointer;\n",
              "      display: none;\n",
              "      fill: #1967D2;\n",
              "      height: 32px;\n",
              "      padding: 0 0 0 0;\n",
              "      width: 32px;\n",
              "    }\n",
              "\n",
              "    .colab-df-convert:hover {\n",
              "      background-color: #E2EBFA;\n",
              "      box-shadow: 0px 1px 2px rgba(60, 64, 67, 0.3), 0px 1px 3px 1px rgba(60, 64, 67, 0.15);\n",
              "      fill: #174EA6;\n",
              "    }\n",
              "\n",
              "    [theme=dark] .colab-df-convert {\n",
              "      background-color: #3B4455;\n",
              "      fill: #D2E3FC;\n",
              "    }\n",
              "\n",
              "    [theme=dark] .colab-df-convert:hover {\n",
              "      background-color: #434B5C;\n",
              "      box-shadow: 0px 1px 3px 1px rgba(0, 0, 0, 0.15);\n",
              "      filter: drop-shadow(0px 1px 2px rgba(0, 0, 0, 0.3));\n",
              "      fill: #FFFFFF;\n",
              "    }\n",
              "  </style>\n",
              "\n",
              "      <script>\n",
              "        const buttonEl =\n",
              "          document.querySelector('#df-910473c2-d016-4ff9-b9e0-780fe4e8d008 button.colab-df-convert');\n",
              "        buttonEl.style.display =\n",
              "          google.colab.kernel.accessAllowed ? 'block' : 'none';\n",
              "\n",
              "        async function convertToInteractive(key) {\n",
              "          const element = document.querySelector('#df-910473c2-d016-4ff9-b9e0-780fe4e8d008');\n",
              "          const dataTable =\n",
              "            await google.colab.kernel.invokeFunction('convertToInteractive',\n",
              "                                                     [key], {});\n",
              "          if (!dataTable) return;\n",
              "\n",
              "          const docLinkHtml = 'Like what you see? Visit the ' +\n",
              "            '<a target=\"_blank\" href=https://colab.research.google.com/notebooks/data_table.ipynb>data table notebook</a>'\n",
              "            + ' to learn more about interactive tables.';\n",
              "          element.innerHTML = '';\n",
              "          dataTable['output_type'] = 'display_data';\n",
              "          await google.colab.output.renderOutput(dataTable, element);\n",
              "          const docLink = document.createElement('div');\n",
              "          docLink.innerHTML = docLinkHtml;\n",
              "          element.appendChild(docLink);\n",
              "        }\n",
              "      </script>\n",
              "    </div>\n",
              "  </div>\n",
              "  "
            ]
          },
          "metadata": {},
          "execution_count": 26
        }
      ]
    },
    {
      "cell_type": "markdown",
      "source": [
        "### Variables Description "
      ],
      "metadata": {
        "id": "PBTbrJXOngz2"
      }
    },
    {
      "cell_type": "markdown",
      "source": [
        "Variables:\n",
        "\n",
        "Hotel : H1= Resort Hotel , H2=City Hotel\n",
        "\n",
        "is_cancelled : If the booking was cancelled(1) or not(0)\n",
        "\n",
        "lead_time : Number of days that elapsed between the entering date of the booking into the PMS and the arrival date\n",
        "\n",
        "arrival_date_year : Year of arrival date\n",
        "\n",
        "arrival_date_month : Month of arrival date\n",
        "\n",
        "arrival_date_week_number : Week number for arrival date\n",
        "\n",
        "arrival_dat_day : Day of arrival date\n",
        "\n",
        "stays_in_weekend_nights : Number of weekend nights (Saturday or Sunday) the guest stayed or booked to stay at the hotel\n",
        "\n",
        "stays_in_week_nights : Number of week nights (Monday to Friday) the guest stayed or booked to stay at the hotel\n",
        "\n",
        "adults : Number of adults\n",
        "\n",
        "children : Number of children\n",
        "\n",
        "babies : Number of babies\n",
        "\n",
        "meal : Kind of meal opted for\n",
        "\n",
        "BB - bed and breakfast,\n",
        "\n",
        "HB - half board, in which breakfast and dinner are included,\n",
        "\n",
        "FB - full board, in which breakfast, lunch and dinner are included,\n",
        "\n",
        "SC - self-catering (no meals are included).\n",
        "\n",
        "country : Country code\n",
        "\n",
        "market segment : Which segment the customer belongs to\n",
        "\n",
        "Distribution_channel : How the customer accessed the stay- 'Direct', 'Corporate', 'TA/TO', 'Undefined', 'GDS'\n",
        "\n",
        "is_repeated_guest : Guest coming for first time or not\n",
        "\n",
        "previous_cancellation : Was there a cancellation before\n",
        "\n",
        "previous_bookings : Count of previous bookings\n",
        "\n",
        "reserved_room_type : Type of room reserved\n",
        "\n",
        "assigned_room_type : Type of room assigned\n",
        "\n",
        "booking changes : Count of changes made to booking\n",
        "\n",
        "deposit_type : Deposit type:'No Deposit', 'Refundable', 'Non Refund'\n",
        "\n",
        "agent : Booked through agent\n",
        "\n",
        "days_in_waiting_list : Number of days in waiting list\n",
        "\n",
        "customer_type : Type of customer\n",
        "\n",
        "Describing the customer type:\n",
        "*   Transient Party- Transient Party type customers are those who are looking for short and often urgent hotel stays.\n",
        "*   Contract \n",
        "*   Transient - Transient guests are customers are those who consist of individuals or groups that are occupying less than 10 rooms per night\n",
        "*   Group\n",
        "\n",
        "adr : Average Daily Revenue\n",
        "\n",
        "required_car_parking : If car parking is required\n",
        "\n",
        "total_of_special_req : Number of additional special requirements\n",
        "\n",
        "reservation_status : Reservation of status:'Check-Out', 'Canceled', 'No-Show'\n",
        "\n",
        "reservation_status_date : Date of the specific status\n",
        "\n",
        "total_stays : The sum of stays_in_weekend_nights and stays_in_week_nights. The amount of stay in hotel\n",
        "\n",
        "\n",
        "\n"
      ],
      "metadata": {
        "id": "WUV_O9Gx2hDC"
      }
    },
    {
      "cell_type": "markdown",
      "source": [
        "### Check Unique Values for each variable."
      ],
      "metadata": {
        "id": "u3PMJOP6ngxN"
      }
    },
    {
      "cell_type": "code",
      "source": [
        "# Check Unique Values for each variable."
      ],
      "metadata": {
        "id": "zms12Yq5n-jE"
      },
      "execution_count": null,
      "outputs": []
    },
    {
      "cell_type": "code",
      "source": [
        "data[\"hotel\"].unique()"
      ],
      "metadata": {
        "id": "lJNKtotO1CWN",
        "colab": {
          "base_uri": "https://localhost:8080/"
        },
        "outputId": "3598fd1b-3b4e-4ccf-dcf3-63f8b922b957"
      },
      "execution_count": null,
      "outputs": [
        {
          "output_type": "execute_result",
          "data": {
            "text/plain": [
              "array(['Resort Hotel', 'City Hotel'], dtype=object)"
            ]
          },
          "metadata": {},
          "execution_count": 28
        }
      ]
    },
    {
      "cell_type": "code",
      "source": [
        "data[\"is_canceled\"].unique()"
      ],
      "metadata": {
        "id": "AFczygN31CTP",
        "colab": {
          "base_uri": "https://localhost:8080/"
        },
        "outputId": "e09adf1f-b3fe-4632-e10e-20a14766caf8"
      },
      "execution_count": null,
      "outputs": [
        {
          "output_type": "execute_result",
          "data": {
            "text/plain": [
              "array([0, 1])"
            ]
          },
          "metadata": {},
          "execution_count": 29
        }
      ]
    },
    {
      "cell_type": "code",
      "source": [
        "data[\"lead_time\"].unique()"
      ],
      "metadata": {
        "id": "WUBb7ZHb1NFO",
        "colab": {
          "base_uri": "https://localhost:8080/"
        },
        "outputId": "51849e56-98ad-4dbf-9ed9-85a3d09cb6e0"
      },
      "execution_count": null,
      "outputs": [
        {
          "output_type": "execute_result",
          "data": {
            "text/plain": [
              "array([342, 737,   7,  13,  14,   0,   9,  85,  75,  23,  35,  68,  18,\n",
              "        37,  12,  72, 127,  78,  48,  60,  77,  99, 118,  95,  96,  69,\n",
              "        45,  40,  15,  36,  43,  70,  16, 107,  47, 113,  90,  50,  93,\n",
              "        76,   3,   1,  10,   5,  17,  51,  71,  63,  62, 101,   2,  81,\n",
              "       368, 364, 324,  79,  21, 109, 102,   4,  98,  92,  26,  73, 115,\n",
              "        86,  52,  29,  30,  33,  32,   8, 100,  44,  80,  97,  64,  39,\n",
              "        34,  27,  82,  94, 110, 111,  84,  66, 104,  28, 258, 112,  65,\n",
              "        67,  55,  88,  54, 292,  83, 105, 280, 394,  24, 103, 366, 249,\n",
              "        22,  91,  11, 108, 106,  31,  87,  41, 304, 117,  59,  53,  58,\n",
              "       116,  42, 321,  38,  56,  49, 317,   6,  57,  19,  25, 315, 123,\n",
              "        46,  89,  61, 312, 299, 130,  74, 298, 119,  20, 286, 136, 129,\n",
              "       124, 327, 131, 460, 140, 114, 139, 122, 137, 126, 120, 128, 135,\n",
              "       150, 143, 151, 132, 125, 157, 147, 138, 156, 164, 346, 159, 160,\n",
              "       161, 333, 381, 149, 154, 297, 163, 314, 155, 323, 340, 356, 142,\n",
              "       328, 144, 336, 248, 302, 175, 344, 382, 146, 170, 166, 338, 167,\n",
              "       310, 148, 165, 172, 171, 145, 121, 178, 305, 173, 152, 354, 347,\n",
              "       158, 185, 349, 183, 352, 177, 200, 192, 361, 207, 174, 330, 134,\n",
              "       350, 334, 283, 153, 197, 133, 241, 193, 235, 194, 261, 260, 216,\n",
              "       169, 209, 238, 215, 141, 189, 187, 223, 284, 214, 202, 211, 168,\n",
              "       230, 203, 188, 232, 709, 219, 162, 196, 190, 259, 228, 176, 250,\n",
              "       201, 186, 199, 180, 206, 205, 224, 222, 182, 210, 275, 212, 229,\n",
              "       218, 208, 191, 181, 179, 246, 255, 226, 288, 253, 252, 262, 236,\n",
              "       256, 234, 254, 468, 213, 237, 198, 195, 239, 263, 265, 274, 217,\n",
              "       220, 307, 221, 233, 257, 227, 276, 225, 264, 311, 277, 204, 290,\n",
              "       266, 270, 294, 319, 282, 251, 322, 291, 269, 240, 271, 184, 231,\n",
              "       268, 247, 273, 300, 301, 267, 244, 306, 293, 309, 272, 242, 295,\n",
              "       285, 243, 308, 398, 303, 245, 424, 279, 331, 281, 339, 434, 357,\n",
              "       325, 329, 278, 332, 343, 345, 360, 348, 367, 353, 373, 374, 406,\n",
              "       400, 326, 379, 399, 316, 341, 320, 385, 355, 363, 358, 296, 422,\n",
              "       390, 335, 370, 376, 375, 397, 289, 542, 403, 383, 384, 359, 393,\n",
              "       337, 362, 365, 435, 386, 378, 313, 351, 287, 471, 462, 411, 450,\n",
              "       318, 372, 371, 454, 532, 445, 389, 388, 407, 443, 437, 451, 391,\n",
              "       405, 412, 419, 420, 426, 433, 440, 429, 418, 447, 461, 605, 457,\n",
              "       475, 464, 482, 626, 489, 496, 503, 510, 517, 524, 531, 538, 545,\n",
              "       552, 559, 566, 573, 580, 587, 594, 601, 608, 615, 622, 629, 396,\n",
              "       410, 395, 423, 408, 409, 448, 465, 387, 414, 476, 479, 467, 490,\n",
              "       493, 478, 504, 507, 458, 518, 521, 377, 444, 380, 463])"
            ]
          },
          "metadata": {},
          "execution_count": 30
        }
      ]
    },
    {
      "cell_type": "code",
      "source": [
        "data[\"arrival_date_year\"].unique()"
      ],
      "metadata": {
        "id": "CuHfOqZ-1CQB",
        "colab": {
          "base_uri": "https://localhost:8080/"
        },
        "outputId": "35d69d20-358a-485f-8bd1-f27ff2954f8f"
      },
      "execution_count": null,
      "outputs": [
        {
          "output_type": "execute_result",
          "data": {
            "text/plain": [
              "array([2015, 2016, 2017])"
            ]
          },
          "metadata": {},
          "execution_count": 31
        }
      ]
    },
    {
      "cell_type": "code",
      "source": [
        "data[\"arrival_date_month\"].unique()"
      ],
      "metadata": {
        "id": "2z9cHif01CKk",
        "colab": {
          "base_uri": "https://localhost:8080/"
        },
        "outputId": "4fa482b8-24a9-4683-f5fa-f628ac0e2dc9"
      },
      "execution_count": null,
      "outputs": [
        {
          "output_type": "execute_result",
          "data": {
            "text/plain": [
              "array(['July', 'August', 'September', 'October', 'November', 'December',\n",
              "       'January', 'February', 'March', 'April', 'May', 'June'],\n",
              "      dtype=object)"
            ]
          },
          "metadata": {},
          "execution_count": 32
        }
      ]
    },
    {
      "cell_type": "code",
      "source": [
        "data[\"arrival_date_week_number\"].unique()"
      ],
      "metadata": {
        "id": "TZTgq2dg1CE4",
        "colab": {
          "base_uri": "https://localhost:8080/"
        },
        "outputId": "c1e6575f-6268-4e6c-d63c-63245f272f8a"
      },
      "execution_count": null,
      "outputs": [
        {
          "output_type": "execute_result",
          "data": {
            "text/plain": [
              "array([27, 28, 29, 30, 31, 32, 33, 34, 35, 36, 37, 38, 39, 40, 41, 42, 43,\n",
              "       44, 45, 46, 47, 48, 49, 50, 51, 52, 53,  1,  2,  3,  4,  5,  6,  7,\n",
              "        8,  9, 10, 11, 12, 13, 14, 15, 16, 17, 18, 19, 20, 21, 22, 23, 24,\n",
              "       25, 26])"
            ]
          },
          "metadata": {},
          "execution_count": 33
        }
      ]
    },
    {
      "cell_type": "code",
      "source": [
        "data['arrival_date_day_of_month'].unique()"
      ],
      "metadata": {
        "id": "GFOg42Ud1B_f",
        "colab": {
          "base_uri": "https://localhost:8080/"
        },
        "outputId": "2079706b-2a07-4456-f9a1-af9464331b89"
      },
      "execution_count": null,
      "outputs": [
        {
          "output_type": "execute_result",
          "data": {
            "text/plain": [
              "array([ 1,  2,  3,  4,  5,  6,  7,  8,  9, 10, 11, 12, 13, 14, 15, 16, 17,\n",
              "       18, 19, 20, 21, 22, 23, 24, 25, 26, 27, 28, 29, 30, 31])"
            ]
          },
          "metadata": {},
          "execution_count": 34
        }
      ]
    },
    {
      "cell_type": "code",
      "source": [
        "data['stays_in_weekend_nights'].unique()"
      ],
      "metadata": {
        "id": "eGHEkGXs1B5B",
        "colab": {
          "base_uri": "https://localhost:8080/"
        },
        "outputId": "d301e777-4f6d-4dc4-9caa-170f4d95ceea"
      },
      "execution_count": null,
      "outputs": [
        {
          "output_type": "execute_result",
          "data": {
            "text/plain": [
              "array([ 0,  1,  2,  4,  3,  6, 13,  8,  5,  7, 12,  9, 16, 18, 19, 10, 14])"
            ]
          },
          "metadata": {},
          "execution_count": 35
        }
      ]
    },
    {
      "cell_type": "code",
      "source": [
        "data['stays_in_week_nights'].unique()"
      ],
      "metadata": {
        "id": "5H9hVN8J1Bwh",
        "colab": {
          "base_uri": "https://localhost:8080/"
        },
        "outputId": "9bc8362e-d091-4d55-b75e-520b13936102"
      },
      "execution_count": null,
      "outputs": [
        {
          "output_type": "execute_result",
          "data": {
            "text/plain": [
              "array([ 0,  1,  2,  3,  4,  5, 10, 11,  8,  6,  7, 15,  9, 12, 33, 20, 14,\n",
              "       16, 21, 13, 30, 19, 24, 40, 22, 42, 50, 25, 17, 32, 26, 18, 34, 35,\n",
              "       41])"
            ]
          },
          "metadata": {},
          "execution_count": 36
        }
      ]
    },
    {
      "cell_type": "code",
      "source": [
        "data['adults'].unique()"
      ],
      "metadata": {
        "id": "rGy5HrKW1Btk",
        "colab": {
          "base_uri": "https://localhost:8080/"
        },
        "outputId": "0d195925-5569-4cbd-e415-aeef232ad40d"
      },
      "execution_count": null,
      "outputs": [
        {
          "output_type": "execute_result",
          "data": {
            "text/plain": [
              "array([ 2,  1,  3,  4, 40, 26, 50, 27, 55,  0, 20,  6,  5, 10])"
            ]
          },
          "metadata": {},
          "execution_count": 37
        }
      ]
    },
    {
      "cell_type": "code",
      "source": [
        "data['children'].unique()"
      ],
      "metadata": {
        "id": "HaDZfxhW1Bqz",
        "colab": {
          "base_uri": "https://localhost:8080/"
        },
        "outputId": "179c2c21-530a-4025-90f0-ce85a70f6278"
      },
      "execution_count": null,
      "outputs": [
        {
          "output_type": "execute_result",
          "data": {
            "text/plain": [
              "array([ 0.        ,  1.        ,  2.        , 10.        ,  3.        ,\n",
              "        0.13863969])"
            ]
          },
          "metadata": {},
          "execution_count": 38
        }
      ]
    },
    {
      "cell_type": "code",
      "source": [
        "data['babies'].unique()"
      ],
      "metadata": {
        "id": "gDRCPAwd1Bny",
        "colab": {
          "base_uri": "https://localhost:8080/"
        },
        "outputId": "80eec2b2-01ef-4597-df2c-45d36f67117d"
      },
      "execution_count": null,
      "outputs": [
        {
          "output_type": "execute_result",
          "data": {
            "text/plain": [
              "array([ 0,  1,  2, 10,  9])"
            ]
          },
          "metadata": {},
          "execution_count": 39
        }
      ]
    },
    {
      "cell_type": "code",
      "source": [
        "data['meal'].unique()"
      ],
      "metadata": {
        "id": "p1XB-O5I1Bkc",
        "colab": {
          "base_uri": "https://localhost:8080/"
        },
        "outputId": "924b6fd4-cb09-4d21-9181-2385172b237b"
      },
      "execution_count": null,
      "outputs": [
        {
          "output_type": "execute_result",
          "data": {
            "text/plain": [
              "array(['BB', 'FB', 'HB', 'SC', 'Undefined'], dtype=object)"
            ]
          },
          "metadata": {},
          "execution_count": 40
        }
      ]
    },
    {
      "cell_type": "code",
      "source": [],
      "metadata": {
        "id": "v7TmPuxQ4jtL"
      },
      "execution_count": null,
      "outputs": []
    },
    {
      "cell_type": "code",
      "source": [
        "data['country'].unique()"
      ],
      "metadata": {
        "id": "xs1zwajF1Bhe",
        "colab": {
          "base_uri": "https://localhost:8080/"
        },
        "outputId": "577b4107-07a7-4fec-d816-1c95a3df00f5"
      },
      "execution_count": null,
      "outputs": [
        {
          "output_type": "execute_result",
          "data": {
            "text/plain": [
              "array(['PRT', 'GBR', 'USA', 'ESP', 'IRL', 'FRA', 'N/A', 'ROU', 'NOR',\n",
              "       'OMN', 'ARG', 'POL', 'DEU', 'BEL', 'CHE', 'CN', 'GRC', 'ITA',\n",
              "       'NLD', 'DNK', 'RUS', 'SWE', 'AUS', 'EST', 'CZE', 'BRA', 'FIN',\n",
              "       'MOZ', 'BWA', 'LUX', 'SVN', 'ALB', 'IND', 'CHN', 'MEX', 'MAR',\n",
              "       'UKR', 'SMR', 'LVA', 'PRI', 'SRB', 'CHL', 'AUT', 'BLR', 'LTU',\n",
              "       'TUR', 'ZAF', 'AGO', 'ISR', 'CYM', 'ZMB', 'CPV', 'ZWE', 'DZA',\n",
              "       'KOR', 'CRI', 'HUN', 'ARE', 'TUN', 'JAM', 'HRV', 'HKG', 'IRN',\n",
              "       'GEO', 'AND', 'GIB', 'URY', 'JEY', 'CAF', 'CYP', 'COL', 'GGY',\n",
              "       'KWT', 'NGA', 'MDV', 'VEN', 'SVK', 'FJI', 'KAZ', 'PAK', 'IDN',\n",
              "       'LBN', 'PHL', 'SEN', 'SYC', 'AZE', 'BHR', 'NZL', 'THA', 'DOM',\n",
              "       'MKD', 'MYS', 'ARM', 'JPN', 'LKA', 'CUB', 'CMR', 'BIH', 'MUS',\n",
              "       'COM', 'SUR', 'UGA', 'BGR', 'CIV', 'JOR', 'SYR', 'SGP', 'BDI',\n",
              "       'SAU', 'VNM', 'PLW', 'QAT', 'EGY', 'PER', 'MLT', 'MWI', 'ECU',\n",
              "       'MDG', 'ISL', 'UZB', 'NPL', 'BHS', 'MAC', 'TGO', 'TWN', 'DJI',\n",
              "       'STP', 'KNA', 'ETH', 'IRQ', 'HND', 'RWA', 'KHM', 'MCO', 'BGD',\n",
              "       'IMN', 'TJK', 'NIC', 'BEN', 'VGB', 'TZA', 'GAB', 'GHA', 'TMP',\n",
              "       'GLP', 'KEN', 'LIE', 'GNB', 'MNE', 'UMI', 'MYT', 'FRO', 'MMR',\n",
              "       'PAN', 'BFA', 'LBY', 'MLI', 'NAM', 'BOL', 'PRY', 'BRB', 'ABW',\n",
              "       'AIA', 'SLV', 'DMA', 'PYF', 'GUY', 'LCA', 'ATA', 'GTM', 'ASM',\n",
              "       'MRT', 'NCL', 'KIR', 'SDN', 'ATF', 'SLE', 'LAO'], dtype=object)"
            ]
          },
          "metadata": {},
          "execution_count": 41
        }
      ]
    },
    {
      "cell_type": "code",
      "source": [
        "data['market_segment'].unique()"
      ],
      "metadata": {
        "id": "xrhQ47sU1BZF",
        "colab": {
          "base_uri": "https://localhost:8080/"
        },
        "outputId": "5123243a-33cc-4034-a246-c3a54b93ac65"
      },
      "execution_count": null,
      "outputs": [
        {
          "output_type": "execute_result",
          "data": {
            "text/plain": [
              "array(['Direct', 'Corporate', 'Online TA', 'Offline TA/TO',\n",
              "       'Complementary', 'Groups', 'Undefined', 'Aviation'], dtype=object)"
            ]
          },
          "metadata": {},
          "execution_count": 42
        }
      ]
    },
    {
      "cell_type": "code",
      "source": [
        "data['distribution_channel'].unique()"
      ],
      "metadata": {
        "id": "kStmClEJ1oPb",
        "colab": {
          "base_uri": "https://localhost:8080/"
        },
        "outputId": "9a405544-2c26-4407-e2b8-37bd460b0ec8"
      },
      "execution_count": null,
      "outputs": [
        {
          "output_type": "execute_result",
          "data": {
            "text/plain": [
              "array(['Direct', 'Corporate', 'TA/TO', 'Undefined', 'GDS'], dtype=object)"
            ]
          },
          "metadata": {},
          "execution_count": 43
        }
      ]
    },
    {
      "cell_type": "code",
      "source": [
        "data['is_repeated_guest'].unique()"
      ],
      "metadata": {
        "id": "X8Cj-Jtg1oHU",
        "colab": {
          "base_uri": "https://localhost:8080/"
        },
        "outputId": "eb1636a4-c47b-4f5e-e827-752d89e96306"
      },
      "execution_count": null,
      "outputs": [
        {
          "output_type": "execute_result",
          "data": {
            "text/plain": [
              "array([0, 1])"
            ]
          },
          "metadata": {},
          "execution_count": 44
        }
      ]
    },
    {
      "cell_type": "code",
      "source": [
        "data['previous_cancellations'].unique()"
      ],
      "metadata": {
        "id": "-v8HjhHT1n66",
        "colab": {
          "base_uri": "https://localhost:8080/"
        },
        "outputId": "02afba08-0c6e-4287-8170-3f2bda2a8e7e"
      },
      "execution_count": null,
      "outputs": [
        {
          "output_type": "execute_result",
          "data": {
            "text/plain": [
              "array([ 0,  1,  2,  3, 26, 25, 14,  4, 24, 19,  5, 21,  6, 13, 11])"
            ]
          },
          "metadata": {},
          "execution_count": 45
        }
      ]
    },
    {
      "cell_type": "code",
      "source": [
        "data['previous_bookings_not_canceled'].unique()"
      ],
      "metadata": {
        "id": "5scYrBAM1n07",
        "colab": {
          "base_uri": "https://localhost:8080/"
        },
        "outputId": "ef1c3752-d5cf-4a5a-adfb-4617b93794f2"
      },
      "execution_count": null,
      "outputs": [
        {
          "output_type": "execute_result",
          "data": {
            "text/plain": [
              "array([ 0,  1,  2,  3,  4,  5,  6,  7,  8,  9, 10, 11, 12, 13, 14, 15, 16,\n",
              "       17, 18, 20, 21, 22, 23, 24, 25, 27, 28, 29, 30, 19, 26, 31, 32, 33,\n",
              "       34, 35, 36, 37, 38, 39, 40, 41, 42, 43, 44, 45, 46, 47, 48, 49, 50,\n",
              "       51, 52, 53, 54, 55, 56, 57, 58, 59, 60, 61, 62, 63, 64, 65, 66, 67,\n",
              "       68, 69, 70, 71, 72])"
            ]
          },
          "metadata": {},
          "execution_count": 46
        }
      ]
    },
    {
      "cell_type": "code",
      "source": [
        "data['reserved_room_type'].unique()"
      ],
      "metadata": {
        "id": "myXF3is71nxM",
        "colab": {
          "base_uri": "https://localhost:8080/"
        },
        "outputId": "7e90975c-ede9-466b-9505-68a7381d25ca"
      },
      "execution_count": null,
      "outputs": [
        {
          "output_type": "execute_result",
          "data": {
            "text/plain": [
              "array(['C', 'A', 'D', 'E', 'G', 'F', 'H', 'L', 'P', 'B'], dtype=object)"
            ]
          },
          "metadata": {},
          "execution_count": 47
        }
      ]
    },
    {
      "cell_type": "code",
      "source": [
        "data['assigned_room_type'].unique()"
      ],
      "metadata": {
        "id": "sYRPnXYn1nsM",
        "colab": {
          "base_uri": "https://localhost:8080/"
        },
        "outputId": "957556ea-4269-43d8-f540-74ca74a272c1"
      },
      "execution_count": null,
      "outputs": [
        {
          "output_type": "execute_result",
          "data": {
            "text/plain": [
              "array(['C', 'A', 'D', 'E', 'G', 'F', 'I', 'B', 'H', 'P', 'L', 'K'],\n",
              "      dtype=object)"
            ]
          },
          "metadata": {},
          "execution_count": 48
        }
      ]
    },
    {
      "cell_type": "code",
      "source": [
        "data['booking_changes'].unique()"
      ],
      "metadata": {
        "id": "__qbthYW1noy",
        "colab": {
          "base_uri": "https://localhost:8080/"
        },
        "outputId": "92a8758a-eb76-4c0f-8e44-978cd90a677d"
      },
      "execution_count": null,
      "outputs": [
        {
          "output_type": "execute_result",
          "data": {
            "text/plain": [
              "array([ 3,  4,  0,  1,  2,  5, 17,  6,  8,  7, 10, 16,  9, 13, 12, 20, 14,\n",
              "       15, 11, 21, 18])"
            ]
          },
          "metadata": {},
          "execution_count": 49
        }
      ]
    },
    {
      "cell_type": "code",
      "source": [
        "data['deposit_type'].unique()"
      ],
      "metadata": {
        "id": "lJMdcVBt1nls",
        "colab": {
          "base_uri": "https://localhost:8080/"
        },
        "outputId": "e67bdb7a-99e5-4564-cb24-ceab15a8b1a5"
      },
      "execution_count": null,
      "outputs": [
        {
          "output_type": "execute_result",
          "data": {
            "text/plain": [
              "array(['No Deposit', 'Refundable', 'Non Refund'], dtype=object)"
            ]
          },
          "metadata": {},
          "execution_count": 50
        }
      ]
    },
    {
      "cell_type": "code",
      "source": [
        "data['agent'].unique()"
      ],
      "metadata": {
        "id": "FyZb6zsn2Z0m",
        "colab": {
          "base_uri": "https://localhost:8080/"
        },
        "outputId": "b6bbf7fe-2943-4405-8d09-57a9be481286"
      },
      "execution_count": null,
      "outputs": [
        {
          "output_type": "execute_result",
          "data": {
            "text/plain": [
              "array([  0., 304., 240., 303.,  15., 241.,   8., 250., 115.,   5., 175.,\n",
              "       134., 156., 243., 242.,   3., 105.,  40., 147., 306., 184.,  96.,\n",
              "         2., 127.,  95., 146.,   9., 177.,   6., 143., 244., 149., 167.,\n",
              "       300., 171., 305.,  67., 196., 152., 142., 261., 104.,  36.,  26.,\n",
              "        29., 258., 110.,  71., 181.,  88., 251., 275.,  69., 248., 208.,\n",
              "       256., 314., 126., 281., 273., 253., 185., 330., 334., 328., 326.,\n",
              "       321., 324., 313.,  38., 155.,  68., 335., 308., 332.,  94., 348.,\n",
              "       310., 339., 375.,  66., 327., 387., 298.,  91., 245., 385., 257.,\n",
              "       393., 168., 405., 249., 315.,  75., 128., 307.,  11., 436.,   1.,\n",
              "       201., 183., 223., 368., 336., 291., 464., 411., 481.,  10., 154.,\n",
              "       468., 410., 390., 440., 495., 492., 493., 434.,  57., 531., 420.,\n",
              "       483., 526., 472., 429.,  16., 446.,  34.,  78., 139., 252., 270.,\n",
              "        47., 114., 301., 193., 182., 135., 350., 195., 352., 355., 159.,\n",
              "       363., 384., 360., 331., 367.,  64., 406., 163., 414., 333., 427.,\n",
              "       431., 430., 426., 438., 433., 418., 441., 282., 432.,  72., 450.,\n",
              "       180., 454., 455.,  59., 451., 254., 358., 469., 165., 467., 510.,\n",
              "       337., 476., 502., 527., 479., 508., 535., 302., 497., 187.,  13.,\n",
              "         7.,  27.,  14.,  22.,  17.,  28.,  42.,  20.,  19.,  45.,  37.,\n",
              "        61.,  39.,  21.,  24.,  41.,  50.,  30.,  54.,  52.,  12.,  44.,\n",
              "        31.,  83.,  32.,  63.,  60.,  55.,  56.,  89.,  87., 118.,  86.,\n",
              "        85., 210., 214., 129., 179., 138., 174., 170., 153.,  93., 151.,\n",
              "       119.,  35., 173.,  58.,  53., 133.,  79., 235., 192., 191., 236.,\n",
              "       162., 215., 157., 287., 132., 234.,  98.,  77., 103., 107., 262.,\n",
              "       220., 121., 205., 378.,  23., 296., 290., 229.,  33., 286., 276.,\n",
              "       425., 484., 323., 403., 219., 394., 509., 111., 423.,   4.,  70.,\n",
              "        82.,  81.,  74.,  92.,  99.,  90., 112., 117., 106., 148., 158.,\n",
              "       144., 211., 213., 216., 232., 150., 267., 227., 247., 278., 280.,\n",
              "       285., 289., 269., 295., 265., 288., 122., 294., 325., 341., 344.,\n",
              "       346., 359., 283., 364., 370., 371.,  25., 141., 391., 397., 416.,\n",
              "       404., 299., 197.,  73., 354., 444., 408., 461., 388., 453., 459.,\n",
              "       474., 475., 480., 449.])"
            ]
          },
          "metadata": {},
          "execution_count": 51
        }
      ]
    },
    {
      "cell_type": "code",
      "source": [
        "data['company'].unique()"
      ],
      "metadata": {
        "id": "s70Tfnpy2Zx6",
        "colab": {
          "base_uri": "https://localhost:8080/"
        },
        "outputId": "55205f18-2865-4a49-e788-da9d7b157dc0"
      },
      "execution_count": null,
      "outputs": [
        {
          "output_type": "execute_result",
          "data": {
            "text/plain": [
              "array([  0., 110., 113., 270., 178., 240., 154., 144., 307., 268.,  59.,\n",
              "       204., 312., 318.,  94., 174., 274., 195., 223., 317., 281., 118.,\n",
              "        53., 286.,  12.,  47., 324., 342., 373., 371., 383.,  86.,  82.,\n",
              "       218.,  88.,  31., 397., 392., 405., 331., 367.,  20.,  83., 416.,\n",
              "        51., 395., 102.,  34.,  84., 360., 394., 457., 382., 461., 478.,\n",
              "       386., 112., 486., 421.,   9., 308., 135., 224., 504., 269., 356.,\n",
              "       498., 390., 513., 203., 263., 477., 521., 169., 515., 445., 337.,\n",
              "       251., 428., 292., 388., 130., 250., 355., 254., 543., 531., 528.,\n",
              "        62., 120.,  42.,  81., 116., 530., 103.,  39.,  16.,  92.,  61.,\n",
              "       501., 165., 291., 290.,  43., 325., 192., 108., 200., 465., 287.,\n",
              "       297., 490., 482., 207., 282., 437., 225., 329., 272.,  28.,  77.,\n",
              "       338.,  72., 246., 319., 146., 159., 380., 323., 511., 407., 278.,\n",
              "        80., 403., 399.,  14., 137., 343., 346., 347., 349., 289., 351.,\n",
              "       353.,  54.,  99., 358., 361., 362., 366., 372., 365., 277., 109.,\n",
              "       377., 379.,  22., 378., 330., 364., 401., 232., 255., 384., 167.,\n",
              "       212., 514., 391., 400., 376., 402., 396., 302., 398.,   6., 370.,\n",
              "       369., 409., 168., 104., 408., 413., 148.,  10., 333., 419., 415.,\n",
              "       424., 425., 423., 422., 435., 439., 442., 448., 443., 454., 444.,\n",
              "        52., 459., 458., 456., 460., 447., 470., 466., 484., 184., 485.,\n",
              "        32., 487., 491., 494., 193., 516., 496., 499.,  29.,  78., 520.,\n",
              "       507., 506., 512., 126.,  64., 242., 518., 523., 539., 534., 436.,\n",
              "       525., 541.,  40., 455., 410.,  45.,  38.,  49.,  48.,  67.,  68.,\n",
              "        65.,  91.,  37.,   8., 179., 209., 219., 221., 227., 153., 186.,\n",
              "       253., 202., 216., 275., 233., 280., 309., 321.,  93., 316.,  85.,\n",
              "       107., 350., 279., 334., 348., 150.,  73., 385., 418., 197., 450.,\n",
              "       452., 115.,  46.,  76.,  96., 100., 105., 101., 122.,  11., 139.,\n",
              "       142., 127., 143., 140., 149., 163., 160., 180., 238., 183., 222.,\n",
              "       185., 217., 215., 213., 237., 230., 234.,  35., 245., 158., 258.,\n",
              "       259., 260., 411., 257., 271.,  18., 106., 210., 273.,  71., 284.,\n",
              "       301., 305., 293., 264., 311., 304., 313., 288., 320., 314., 332.,\n",
              "       341., 352., 243., 368., 393., 132., 220., 412., 420., 426., 417.,\n",
              "       429., 433., 446., 357., 479., 483., 489., 229., 481., 497., 451.,\n",
              "       492.])"
            ]
          },
          "metadata": {},
          "execution_count": 52
        }
      ]
    },
    {
      "cell_type": "code",
      "source": [
        "data['days_in_waiting_list'].unique()"
      ],
      "metadata": {
        "id": "rN8Iwifx2Zu4",
        "colab": {
          "base_uri": "https://localhost:8080/"
        },
        "outputId": "e762023f-a98e-4df9-83b5-51492a1018e4"
      },
      "execution_count": null,
      "outputs": [
        {
          "output_type": "execute_result",
          "data": {
            "text/plain": [
              "array([  0,  50,  47,  65, 122,  75, 101, 150, 125,  14,  60,  34, 100,\n",
              "        22, 121,  61,  39,   5,   1,   8, 107,  43,  52,   2,  11, 142,\n",
              "       116,  13,  44,  97,  83,   4, 113,  18,  20, 185,  93, 109,   6,\n",
              "        37, 105, 154,  64,  99,  38,  48,  33,  77,  21,  80,  59,  40,\n",
              "        58,  89,  53,  49,  69,  87,  91,  57, 111,  79,  98,  85,  63,\n",
              "        15,   3,  41, 224,  31,  56, 187, 176,  71,  55,  96, 236, 259,\n",
              "       207, 215, 160, 120,  30,  32,  27,  62,  24, 108, 147, 379,  70,\n",
              "        35, 178, 330, 223, 174, 162, 391,  68, 193,  10,  76,  16,  28,\n",
              "         9, 165,  17,  25,  46,   7,  84, 175, 183,  23, 117,  12,  54,\n",
              "        26,  73,  45,  19,  42,  72,  81,  92,  74, 167,  36])"
            ]
          },
          "metadata": {},
          "execution_count": 53
        }
      ]
    },
    {
      "cell_type": "code",
      "source": [
        "data['customer_type'].unique()"
      ],
      "metadata": {
        "id": "SbpHWIAC2Zr5",
        "colab": {
          "base_uri": "https://localhost:8080/"
        },
        "outputId": "f1dcf6b0-8303-484e-e739-1be9400e60fc"
      },
      "execution_count": null,
      "outputs": [
        {
          "output_type": "execute_result",
          "data": {
            "text/plain": [
              "array(['Transient', 'Contract', 'Transient-Party', 'Group'], dtype=object)"
            ]
          },
          "metadata": {},
          "execution_count": 54
        }
      ]
    },
    {
      "cell_type": "code",
      "source": [
        "data['adr'].unique()"
      ],
      "metadata": {
        "id": "XgC6QAJ92ZpT",
        "colab": {
          "base_uri": "https://localhost:8080/"
        },
        "outputId": "97b12196-5af3-4f6d-aac2-ba34a164b084"
      },
      "execution_count": null,
      "outputs": [
        {
          "output_type": "execute_result",
          "data": {
            "text/plain": [
              "array([  0.  ,  75.  ,  98.  , ..., 266.75, 209.25, 157.71])"
            ]
          },
          "metadata": {},
          "execution_count": 55
        }
      ]
    },
    {
      "cell_type": "code",
      "source": [
        "data['required_car_parking_spaces'].unique()"
      ],
      "metadata": {
        "id": "kBY-ftjV2Zmj",
        "colab": {
          "base_uri": "https://localhost:8080/"
        },
        "outputId": "26aa52e0-d6b5-497b-e35a-20a1a2374816"
      },
      "execution_count": null,
      "outputs": [
        {
          "output_type": "execute_result",
          "data": {
            "text/plain": [
              "array([0, 1, 2, 8, 3])"
            ]
          },
          "metadata": {},
          "execution_count": 56
        }
      ]
    },
    {
      "cell_type": "code",
      "source": [
        "data['total_of_special_requests'].unique()"
      ],
      "metadata": {
        "id": "0icxLfk32Zig",
        "colab": {
          "base_uri": "https://localhost:8080/"
        },
        "outputId": "56d313c9-4349-4d8e-8b0b-520f330101c0"
      },
      "execution_count": null,
      "outputs": [
        {
          "output_type": "execute_result",
          "data": {
            "text/plain": [
              "array([0, 1, 3, 2, 4, 5])"
            ]
          },
          "metadata": {},
          "execution_count": 57
        }
      ]
    },
    {
      "cell_type": "code",
      "source": [
        "data['reservation_status'].unique()"
      ],
      "metadata": {
        "id": "Vr8HYZ2i2ZfA",
        "colab": {
          "base_uri": "https://localhost:8080/"
        },
        "outputId": "93cb0b78-e16b-43cb-a8e1-d0266df3190a"
      },
      "execution_count": null,
      "outputs": [
        {
          "output_type": "execute_result",
          "data": {
            "text/plain": [
              "array(['Check-Out', 'Canceled', 'No-Show'], dtype=object)"
            ]
          },
          "metadata": {},
          "execution_count": 58
        }
      ]
    },
    {
      "cell_type": "code",
      "source": [
        "data['reservation_status_date'].unique()"
      ],
      "metadata": {
        "id": "q5fhF6EU2ZcC",
        "colab": {
          "base_uri": "https://localhost:8080/"
        },
        "outputId": "9327f705-1238-4291-a17c-8dfccbf2c31d"
      },
      "execution_count": null,
      "outputs": [
        {
          "output_type": "execute_result",
          "data": {
            "text/plain": [
              "array(['2015-07-01', '2015-07-02', '2015-07-03', '2015-05-06',\n",
              "       '2015-04-22', '2015-06-23', '2015-07-05', '2015-07-06',\n",
              "       '2015-07-07', '2015-07-08', '2015-05-11', '2015-07-15',\n",
              "       '2015-07-16', '2015-05-29', '2015-05-19', '2015-06-19',\n",
              "       '2015-05-23', '2015-05-18', '2015-07-09', '2015-06-02',\n",
              "       '2015-07-13', '2015-07-04', '2015-06-29', '2015-06-16',\n",
              "       '2015-06-18', '2015-06-12', '2015-06-09', '2015-05-26',\n",
              "       '2015-07-11', '2015-07-12', '2015-07-17', '2015-04-15',\n",
              "       '2015-05-13', '2015-07-10', '2015-05-20', '2015-05-12',\n",
              "       '2015-07-14', '2015-06-17', '2015-05-01', '2015-03-30',\n",
              "       '2015-07-19', '2015-06-03', '2015-06-26', '2015-05-14',\n",
              "       '2015-07-20', '2015-05-07', '2015-05-28', '2015-04-13',\n",
              "       '2015-03-25', '2015-07-21', '2015-06-27', '2015-07-18',\n",
              "       '2015-07-23', '2015-06-08', '2015-06-22', '2015-06-24',\n",
              "       '2015-03-05', '2015-06-01', '2015-04-24', '2015-07-22',\n",
              "       '2015-05-27', '2015-04-06', '2015-04-11', '2015-07-25',\n",
              "       '2015-07-28', '2015-07-29', '2015-06-25', '2015-07-24',\n",
              "       '2015-06-05', '2015-06-30', '2015-06-13', '2015-06-11',\n",
              "       '2015-07-30', '2015-07-27', '2015-04-29', '2015-06-04',\n",
              "       '2015-07-26', '2015-08-01', '2015-08-02', '2015-06-15',\n",
              "       '2015-04-23', '2015-07-31', '2015-05-25', '2015-08-03',\n",
              "       '2015-04-17', '2015-08-04', '2015-08-06', '2015-05-15',\n",
              "       '2015-05-09', '2015-03-17', '2015-05-22', '2015-08-07',\n",
              "       '2015-04-04', '2015-08-05', '2015-08-08', '2015-08-10',\n",
              "       '2015-05-04', '2015-06-06', '2015-08-09', '2015-08-15',\n",
              "       '2015-08-11', '2015-03-28', '2015-08-14', '2015-08-12',\n",
              "       '2015-08-16', '2015-05-16', '2015-08-21', '2015-08-13',\n",
              "       '2015-08-17', '2015-04-20', '2015-08-18', '2015-08-23',\n",
              "       '2015-08-22', '2015-08-19', '2015-08-20', '2015-08-29',\n",
              "       '2015-03-31', '2015-05-30', '2015-08-25', '2015-04-14',\n",
              "       '2015-08-24', '2015-03-24', '2015-05-21', '2015-08-28',\n",
              "       '2015-08-26', '2015-08-27', '2015-08-30', '2015-08-31',\n",
              "       '2015-09-06', '2015-09-03', '2015-09-04', '2015-09-02',\n",
              "       '2015-09-01', '2015-09-05', '2015-06-20', '2015-09-07',\n",
              "       '2015-09-10', '2015-09-11', '2015-09-08', '2015-09-09',\n",
              "       '2015-09-13', '2015-09-15', '2015-04-10', '2015-01-02',\n",
              "       '2014-11-18', '2015-09-12', '2015-09-17', '2015-09-14',\n",
              "       '2015-04-07', '2015-09-19', '2015-09-16', '2015-09-20',\n",
              "       '2015-01-18', '2015-10-23', '2015-01-22', '2015-01-01',\n",
              "       '2015-09-22', '2015-09-24', '2015-09-18', '2015-09-21',\n",
              "       '2015-09-30', '2015-09-25', '2015-09-27', '2015-09-28',\n",
              "       '2015-10-12', '2015-09-29', '2015-09-23', '2015-10-01',\n",
              "       '2015-09-26', '2015-04-18', '2015-10-02', '2015-10-04',\n",
              "       '2015-10-08', '2015-10-03', '2015-10-07', '2015-10-09',\n",
              "       '2015-10-11', '2015-10-05', '2015-10-06', '2015-10-10',\n",
              "       '2015-10-14', '2015-10-15', '2015-10-18', '2015-10-13',\n",
              "       '2015-10-20', '2015-10-19', '2015-10-31', '2015-10-16',\n",
              "       '2015-10-21', '2015-10-22', '2015-10-17', '2015-10-24',\n",
              "       '2015-10-25', '2015-10-28', '2015-10-27', '2015-10-26',\n",
              "       '2015-10-30', '2015-11-05', '2015-10-29', '2015-11-03',\n",
              "       '2015-11-07', '2015-11-04', '2015-11-01', '2015-11-02',\n",
              "       '2015-11-17', '2015-11-06', '2015-11-10', '2015-11-08',\n",
              "       '2015-11-09', '2015-11-15', '2015-11-16', '2015-11-11',\n",
              "       '2015-11-12', '2015-11-14', '2015-11-13', '2015-11-18',\n",
              "       '2015-11-22', '2015-11-19', '2015-11-21', '2015-11-20',\n",
              "       '2015-11-24', '2015-11-25', '2015-11-23', '2015-11-28',\n",
              "       '2015-11-26', '2015-11-27', '2015-11-29', '2015-12-04',\n",
              "       '2015-12-01', '2015-12-06', '2015-12-08', '2015-12-02',\n",
              "       '2015-12-03', '2015-12-31', '2015-12-05', '2015-12-10',\n",
              "       '2015-12-17', '2015-11-30', '2015-12-12', '2015-12-07',\n",
              "       '2016-01-05', '2015-12-11', '2015-12-13', '2015-12-15',\n",
              "       '2015-12-16', '2015-12-19', '2015-12-18', '2015-12-26',\n",
              "       '2015-12-27', '2015-12-22', '2015-12-23', '2015-12-24',\n",
              "       '2015-12-29', '2015-12-28', '2015-12-20', '2015-12-30',\n",
              "       '2016-01-02', '2016-01-01', '2015-12-25', '2016-01-03',\n",
              "       '2016-01-04', '2016-01-11', '2016-01-07', '2015-12-21',\n",
              "       '2016-01-09', '2016-01-10', '2016-01-08', '2016-01-06',\n",
              "       '2016-01-12', '2016-01-13', '2016-01-23', '2016-02-09',\n",
              "       '2016-01-15', '2016-01-16', '2016-01-17', '2016-01-19',\n",
              "       '2016-01-18', '2016-01-21', '2016-01-24', '2016-01-22',\n",
              "       '2016-01-29', '2016-01-27', '2016-01-25', '2016-03-08',\n",
              "       '2016-01-26', '2016-01-20', '2016-01-30', '2016-02-01',\n",
              "       '2016-02-02', '2016-02-08', '2016-02-07', '2016-01-28',\n",
              "       '2016-02-05', '2016-02-03', '2016-02-13', '2016-02-10',\n",
              "       '2016-02-04', '2016-02-12', '2016-02-11', '2016-02-16',\n",
              "       '2016-02-14', '2016-02-15', '2016-02-20', '2016-02-06',\n",
              "       '2016-01-14', '2016-02-17', '2016-02-21', '2016-02-24',\n",
              "       '2016-02-25', '2016-02-19', '2016-02-18', '2016-02-26',\n",
              "       '2016-02-23', '2016-03-05', '2016-02-22', '2016-02-27',\n",
              "       '2016-03-03', '2016-03-24', '2016-03-04', '2016-02-29',\n",
              "       '2016-03-01', '2016-03-02', '2016-03-30', '2016-03-07',\n",
              "       '2016-03-14', '2016-03-21', '2016-03-09', '2016-03-12',\n",
              "       '2016-03-22', '2016-03-10', '2016-03-11', '2016-03-20',\n",
              "       '2016-03-15', '2016-03-17', '2016-03-16', '2016-03-19',\n",
              "       '2016-03-27', '2016-03-18', '2016-03-26', '2016-03-31',\n",
              "       '2016-03-28', '2016-03-29', '2016-04-01', '2016-03-23',\n",
              "       '2016-04-02', '2016-03-25', '2016-03-13', '2016-04-04',\n",
              "       '2016-04-03', '2016-04-05', '2016-04-08', '2016-04-06',\n",
              "       '2016-04-09', '2016-04-12', '2016-04-16', '2016-04-17',\n",
              "       '2016-04-27', '2016-04-14', '2016-04-18', '2016-04-21',\n",
              "       '2016-04-19', '2016-04-20', '2016-04-10', '2016-04-13',\n",
              "       '2016-04-11', '2016-04-07', '2016-04-15', '2016-04-22',\n",
              "       '2016-04-23', '2016-04-26', '2016-04-28', '2016-04-24',\n",
              "       '2016-04-25', '2016-04-29', '2016-04-30', '2016-05-01',\n",
              "       '2016-05-10', '2016-05-02', '2016-05-07', '2016-05-08',\n",
              "       '2016-05-12', '2016-05-04', '2016-05-06', '2016-05-03',\n",
              "       '2016-05-09', '2016-05-05', '2016-05-13', '2016-05-14',\n",
              "       '2016-05-18', '2016-05-19', '2016-05-15', '2016-05-16',\n",
              "       '2016-05-11', '2016-05-21', '2016-05-22', '2016-05-20',\n",
              "       '2016-05-24', '2016-05-25', '2016-05-26', '2016-05-23',\n",
              "       '2016-05-27', '2016-05-17', '2016-05-29', '2016-05-28',\n",
              "       '2016-05-30', '2016-05-31', '2016-06-01', '2016-06-03',\n",
              "       '2016-06-08', '2016-06-02', '2016-06-05', '2016-06-06',\n",
              "       '2016-06-13', '2016-06-07', '2016-06-10', '2016-06-11',\n",
              "       '2016-06-16', '2016-06-12', '2016-06-14', '2016-06-17',\n",
              "       '2016-06-04', '2016-06-18', '2016-06-21', '2016-06-09',\n",
              "       '2016-06-24', '2016-06-20', '2016-06-25', '2016-06-22',\n",
              "       '2016-06-26', '2016-06-23', '2016-07-01', '2016-06-15',\n",
              "       '2016-06-28', '2016-07-02', '2016-06-19', '2016-06-27',\n",
              "       '2016-07-04', '2016-06-30', '2016-07-05', '2016-07-08',\n",
              "       '2016-07-09', '2016-07-07', '2016-07-12', '2016-06-29',\n",
              "       '2016-07-10', '2016-07-15', '2016-07-03', '2016-07-16',\n",
              "       '2016-07-14', '2016-07-18', '2016-07-13', '2016-07-06',\n",
              "       '2016-07-20', '2016-07-21', '2016-07-23', '2016-07-19',\n",
              "       '2016-07-11', '2016-07-28', '2016-07-17', '2016-07-25',\n",
              "       '2016-07-22', '2016-07-29', '2016-08-03', '2016-08-02',\n",
              "       '2016-08-04', '2016-08-08', '2016-08-10', '2016-08-01',\n",
              "       '2016-08-06', '2016-03-06', '2016-08-05', '2016-07-26',\n",
              "       '2016-08-07', '2016-07-30', '2016-07-24', '2016-08-12',\n",
              "       '2016-07-27', '2016-08-13', '2016-08-18', '2016-08-16',\n",
              "       '2016-08-15', '2016-08-17', '2016-08-11', '2016-07-31',\n",
              "       '2016-08-19', '2016-09-01', '2016-08-23', '2016-08-26',\n",
              "       '2016-08-20', '2016-08-21', '2016-09-04', '2016-08-22',\n",
              "       '2016-08-27', '2016-08-25', '2016-08-09', '2016-09-05',\n",
              "       '2016-08-24', '2016-09-10', '2016-08-29', '2016-09-09',\n",
              "       '2016-08-30', '2016-09-13', '2016-08-31', '2016-09-14',\n",
              "       '2016-09-12', '2016-09-15', '2016-08-14', '2016-09-02',\n",
              "       '2016-09-08', '2016-09-19', '2016-09-16', '2016-09-07',\n",
              "       '2016-09-21', '2016-09-06', '2016-09-22', '2016-09-17',\n",
              "       '2016-09-20', '2016-09-03', '2016-09-26', '2016-09-23',\n",
              "       '2016-09-18', '2016-09-29', '2016-10-02', '2016-10-01',\n",
              "       '2016-09-27', '2016-09-25', '2016-10-05', '2016-09-11',\n",
              "       '2016-09-30', '2016-10-09', '2016-10-03', '2016-10-06',\n",
              "       '2016-10-11', '2016-09-24', '2016-10-13', '2016-09-28',\n",
              "       '2016-10-08', '2016-10-07', '2016-10-16', '2016-08-28',\n",
              "       '2016-10-17', '2016-10-18', '2016-10-10', '2016-10-04',\n",
              "       '2016-10-15', '2016-10-19', '2016-10-21', '2016-10-12',\n",
              "       '2016-10-24', '2016-10-26', '2016-10-23', '2016-10-20',\n",
              "       '2016-10-25', '2016-10-27', '2016-10-28', '2016-10-30',\n",
              "       '2016-10-29', '2016-11-01', '2016-11-04', '2016-10-14',\n",
              "       '2016-11-07', '2016-11-03', '2016-11-10', '2016-11-14',\n",
              "       '2016-11-02', '2016-10-31', '2016-11-11', '2016-11-08',\n",
              "       '2016-11-05', '2016-11-25', '2016-11-09', '2016-11-20',\n",
              "       '2016-11-21', '2016-10-22', '2016-11-22', '2016-11-16',\n",
              "       '2016-11-23', '2016-11-17', '2016-11-06', '2016-11-15',\n",
              "       '2016-11-13', '2016-11-12', '2016-11-27', '2016-11-19',\n",
              "       '2016-11-30', '2016-11-18', '2016-12-02', '2016-12-04',\n",
              "       '2016-11-29', '2016-12-07', '2016-11-28', '2016-12-03',\n",
              "       '2016-12-06', '2016-11-24', '2016-12-08', '2016-12-05',\n",
              "       '2016-12-10', '2016-12-13', '2016-12-14', '2016-12-16',\n",
              "       '2016-12-15', '2016-12-17', '2016-12-19', '2016-12-21',\n",
              "       '2016-12-20', '2016-12-22', '2016-12-23', '2016-12-24',\n",
              "       '2016-12-01', '2016-12-27', '2016-12-29', '2016-12-30',\n",
              "       '2016-12-12', '2017-01-02', '2016-12-11', '2017-01-03',\n",
              "       '2017-01-04', '2017-01-01', '2016-12-26', '2017-01-06',\n",
              "       '2016-12-28', '2016-12-18', '2017-01-10', '2017-01-11',\n",
              "       '2017-01-07', '2017-01-12', '2017-01-16', '2017-01-14',\n",
              "       '2017-01-13', '2017-01-05', '2017-01-17', '2017-01-20',\n",
              "       '2016-12-09', '2017-01-26', '2016-12-31', '2017-01-23',\n",
              "       '2017-01-27', '2017-01-28', '2017-01-19', '2017-01-25',\n",
              "       '2017-01-24', '2017-01-29', '2017-01-18', '2016-12-25',\n",
              "       '2017-01-15', '2017-01-21', '2017-02-01', '2017-02-02',\n",
              "       '2017-01-31', '2017-02-03', '2017-02-04', '2017-02-06',\n",
              "       '2017-02-07', '2017-02-08', '2017-01-30', '2017-02-09',\n",
              "       '2017-01-09', '2017-02-11', '2017-02-10', '2017-02-12',\n",
              "       '2017-02-13', '2017-02-14', '2017-02-16', '2017-02-17',\n",
              "       '2017-02-18', '2017-02-19', '2017-02-20', '2017-02-15',\n",
              "       '2017-02-21', '2017-02-22', '2017-02-26', '2017-02-23',\n",
              "       '2017-02-24', '2017-02-25', '2017-02-28', '2017-03-05',\n",
              "       '2017-02-27', '2017-03-03', '2017-03-06', '2017-03-02',\n",
              "       '2017-03-08', '2017-03-09', '2017-03-10', '2017-03-07',\n",
              "       '2017-03-12', '2017-03-13', '2017-03-14', '2017-03-01',\n",
              "       '2017-03-18', '2017-03-17', '2017-03-24', '2017-03-22',\n",
              "       '2017-03-26', '2017-03-27', '2017-03-11', '2017-03-28',\n",
              "       '2017-03-29', '2017-03-30', '2017-03-31', '2017-03-19',\n",
              "       '2017-01-22', '2017-04-02', '2017-03-20', '2017-04-03',\n",
              "       '2017-01-08', '2017-03-23', '2017-04-05', '2017-02-05',\n",
              "       '2017-04-04', '2017-03-15', '2017-04-07', '2017-03-25',\n",
              "       '2017-04-08', '2017-04-06', '2017-03-21', '2017-04-10',\n",
              "       '2017-04-01', '2017-04-11', '2017-04-13', '2017-04-15',\n",
              "       '2017-04-12', '2017-03-04', '2017-04-19', '2017-04-22',\n",
              "       '2017-04-20', '2017-05-02', '2017-04-09', '2017-04-23',\n",
              "       '2017-04-24', '2017-04-16', '2017-04-28', '2017-04-18',\n",
              "       '2017-04-26', '2017-04-25', '2017-04-17', '2017-04-21',\n",
              "       '2017-05-03', '2017-05-04', '2017-03-16', '2017-05-05',\n",
              "       '2017-04-29', '2017-04-14', '2017-05-08', '2017-04-27',\n",
              "       '2017-05-11', '2017-05-01', '2017-05-10', '2017-05-13',\n",
              "       '2017-05-06', '2017-05-14', '2017-05-16', '2017-04-30',\n",
              "       '2017-05-15', '2017-05-07', '2017-05-09', '2017-05-17',\n",
              "       '2017-05-21', '2017-05-12', '2017-05-22', '2017-05-24',\n",
              "       '2017-05-23', '2017-05-25', '2017-05-26', '2017-05-28',\n",
              "       '2017-05-27', '2017-05-29', '2017-05-19', '2017-05-31',\n",
              "       '2017-05-20', '2017-06-01', '2017-05-30', '2017-06-02',\n",
              "       '2016-11-26', '2017-06-04', '2017-06-05', '2017-06-06',\n",
              "       '2017-06-07', '2017-05-18', '2017-06-09', '2017-06-10',\n",
              "       '2017-06-11', '2017-06-12', '2017-06-14', '2017-06-08',\n",
              "       '2017-06-16', '2017-06-13', '2017-06-03', '2017-06-24',\n",
              "       '2017-06-20', '2017-06-19', '2017-06-21', '2017-06-26',\n",
              "       '2017-06-27', '2017-06-22', '2017-06-28', '2017-06-15',\n",
              "       '2017-06-29', '2017-06-30', '2017-06-18', '2017-07-04',\n",
              "       '2017-07-08', '2017-07-05', '2017-07-03', '2017-07-07',\n",
              "       '2017-07-01', '2017-07-06', '2017-07-11', '2017-07-12',\n",
              "       '2017-06-23', '2017-07-13', '2017-07-02', '2017-07-10',\n",
              "       '2017-07-14', '2017-07-15', '2017-07-16', '2017-07-18',\n",
              "       '2017-07-17', '2017-07-19', '2017-07-20', '2017-07-21',\n",
              "       '2017-06-25', '2017-06-17', '2017-07-24', '2017-07-26',\n",
              "       '2017-07-09', '2017-07-27', '2017-07-28', '2017-07-31',\n",
              "       '2017-07-29', '2017-07-22', '2017-08-02', '2017-08-01',\n",
              "       '2017-08-03', '2017-08-04', '2017-07-25', '2017-07-23',\n",
              "       '2017-08-09', '2017-08-10', '2017-07-30', '2017-08-07',\n",
              "       '2017-08-13', '2017-08-05', '2017-08-14', '2017-08-08',\n",
              "       '2017-08-16', '2017-08-17', '2017-08-15', '2017-08-18',\n",
              "       '2017-08-20', '2017-08-22', '2017-08-06', '2017-08-25',\n",
              "       '2017-08-26', '2017-08-23', '2017-08-11', '2017-08-27',\n",
              "       '2017-08-21', '2017-08-29', '2017-08-31', '2017-08-12',\n",
              "       '2017-08-19', '2016-01-31', '2017-09-01', '2017-08-28',\n",
              "       '2015-04-03', '2015-01-21', '2015-01-28', '2015-01-29',\n",
              "       '2015-01-30', '2015-02-02', '2015-02-05', '2015-02-06',\n",
              "       '2015-02-09', '2015-02-10', '2015-02-11', '2015-02-12',\n",
              "       '2015-02-19', '2015-02-20', '2015-02-23', '2015-02-24',\n",
              "       '2015-02-25', '2015-02-26', '2015-02-27', '2015-03-03',\n",
              "       '2015-03-04', '2015-03-06', '2015-03-09', '2015-03-11',\n",
              "       '2015-03-12', '2015-03-18', '2015-04-02', '2015-06-14',\n",
              "       '2015-04-08', '2015-04-16', '2015-04-25', '2015-04-28',\n",
              "       '2015-05-08', '2017-09-06', '2016-02-28', '2015-12-09',\n",
              "       '2015-12-14', '2017-09-09', '2017-09-02', '2017-08-24',\n",
              "       '2017-08-30', '2017-09-03', '2017-09-04', '2017-09-05',\n",
              "       '2017-09-07', '2017-09-08', '2017-09-10', '2017-09-12',\n",
              "       '2017-09-14', '2015-04-30', '2015-04-21', '2015-04-05',\n",
              "       '2015-03-13', '2015-05-05', '2015-03-29', '2015-06-10',\n",
              "       '2015-04-27', '2014-10-17', '2015-01-20', '2015-02-17',\n",
              "       '2015-03-10', '2015-03-23'], dtype=object)"
            ]
          },
          "metadata": {},
          "execution_count": 59
        }
      ]
    },
    {
      "cell_type": "code",
      "source": [
        "data.nunique().sort_values(ascending=False)"
      ],
      "metadata": {
        "id": "hHT-NK_RK3FC",
        "colab": {
          "base_uri": "https://localhost:8080/"
        },
        "outputId": "37244947-baad-483e-e290-fc60e869dc10"
      },
      "execution_count": null,
      "outputs": [
        {
          "output_type": "execute_result",
          "data": {
            "text/plain": [
              "adr                               8879\n",
              "reservation_status_date            926\n",
              "lead_time                          479\n",
              "company                            353\n",
              "agent                              334\n",
              "country                            178\n",
              "days_in_waiting_list               128\n",
              "previous_bookings_not_canceled      73\n",
              "arrival_date_week_number            53\n",
              "total_stays                         45\n",
              "stays_in_week_nights                35\n",
              "arrival_date_day_of_month           31\n",
              "booking_changes                     21\n",
              "stays_in_weekend_nights             17\n",
              "previous_cancellations              15\n",
              "adults                              14\n",
              "assigned_room_type                  12\n",
              "arrival_date_month                  12\n",
              "reserved_room_type                  10\n",
              "market_segment                       8\n",
              "total_of_special_requests            6\n",
              "children                             6\n",
              "meal                                 5\n",
              "babies                               5\n",
              "required_car_parking_spaces          5\n",
              "distribution_channel                 5\n",
              "customer_type                        4\n",
              "reservation_status                   3\n",
              "deposit_type                         3\n",
              "arrival_date_year                    3\n",
              "hotel                                2\n",
              "is_canceled                          2\n",
              "is_repeated_guest                    2\n",
              "dtype: int64"
            ]
          },
          "metadata": {},
          "execution_count": 60
        }
      ]
    },
    {
      "cell_type": "markdown",
      "source": [
        "## 3. ***Data Wrangling***"
      ],
      "metadata": {
        "id": "dauF4eBmngu3"
      }
    },
    {
      "cell_type": "markdown",
      "source": [
        "### Data Wrangling Code"
      ],
      "metadata": {
        "id": "bKJF3rekwFvQ"
      }
    },
    {
      "cell_type": "code",
      "source": [
        "# Write your code to make your dataset analysis ready."
      ],
      "metadata": {
        "id": "wk-9a2fpoLcV"
      },
      "execution_count": null,
      "outputs": []
    },
    {
      "cell_type": "markdown",
      "source": [
        "### What all manipulations have you done and insights you found?"
      ],
      "metadata": {
        "id": "MSa1f5Uengrz"
      }
    },
    {
      "cell_type": "markdown",
      "source": [
        "I have cleaned the data. I have filled the null values in different columns with other relevant data (like zero,mean if needed) using \"fillna\" to avoid the data loss. The City column null values are replaced with another string since it is object dtype column. Even new column \"total stay\" is generated to find the overall stay of customers in hotels. It is used in correlation graph. "
      ],
      "metadata": {
        "id": "LbyXE7I1olp8"
      }
    },
    {
      "cell_type": "markdown",
      "source": [
        "## ***4. Data Vizualization, Storytelling & Experimenting with charts : Understand the relationships between variables***"
      ],
      "metadata": {
        "id": "GF8Ens_Soomf"
      }
    },
    {
      "cell_type": "markdown",
      "source": [
        "#### Chart - 1"
      ],
      "metadata": {
        "id": "0wOQAZs5pc--"
      }
    },
    {
      "cell_type": "code",
      "source": [
        "# Chart - 1 visualization code\n",
        "valid_bookings=data[(data['is_canceled']==0)].sort_values(by=\"hotel\")\n",
        "p1=sns.countplot(data=valid_bookings,x=\"hotel\",palette=\"flare\")\n",
        "p1.set_title(\"Bookings\")\n",
        "p1.set_ylabel(\"Total number of Bookings\")\n",
        "plt.show()"
      ],
      "metadata": {
        "id": "7v_ESjsspbW7",
        "colab": {
          "base_uri": "https://localhost:8080/",
          "height": 301
        },
        "outputId": "ee8e9eb4-f093-422a-cd99-03fa98cc56cc"
      },
      "execution_count": null,
      "outputs": [
        {
          "output_type": "display_data",
          "data": {
            "text/plain": [
              "<Figure size 432x288 with 1 Axes>"
            ],
            "image/png": "[encoded data removed]"
          },
          "metadata": {}
        }
      ]
    },
    {
      "cell_type": "markdown",
      "source": [
        "##### 1. Why did you pick the specific chart?"
      ],
      "metadata": {
        "id": "K5QZ13OEpz2H"
      }
    },
    {
      "cell_type": "markdown",
      "source": [
        "To find which hotel has more number of bookings comparitively."
      ],
      "metadata": {
        "id": "XESiWehPqBRc"
      }
    },
    {
      "cell_type": "markdown",
      "source": [
        "##### 2. What is/are the insight(s) found from the chart?"
      ],
      "metadata": {
        "id": "lQ7QKXXCp7Bj"
      }
    },
    {
      "cell_type": "markdown",
      "source": [
        "It is observed from the bar chart that the City Hotel has more number of booking than resort hotel."
      ],
      "metadata": {
        "id": "C_j1G7yiqdRP"
      }
    },
    {
      "cell_type": "markdown",
      "source": [
        "##### 3. Will the gained insights help creating a positive business impact? \n",
        "Are there any insights that lead to negative growth? Justify with specific reason."
      ],
      "metadata": {
        "id": "448CDAPjqfQr"
      }
    },
    {
      "cell_type": "markdown",
      "source": [
        "Yes,the gained insights help in creating positive bussiness impact. City hotel has better facilities like good number of car parkings and they are also fullfilling the special request more efficiently so they should be consistent with their facilities and resort hotel should improve facilities so that they can have more bookings."
      ],
      "metadata": {
        "id": "3cspy4FjqxJW"
      }
    },
    {
      "cell_type": "markdown",
      "source": [
        "#### Chart - 2"
      ],
      "metadata": {
        "id": "KSlN3yHqYklG"
      }
    },
    {
      "cell_type": "code",
      "source": [
        "# Chart - 2 visualization code\n",
        "df1=data[(data['is_canceled']==0)]\n",
        "plt.figure(figsize=(10,8))\n",
        "sns.countplot(data=df1,x='meal')\n",
        "plt.show()"
      ],
      "metadata": {
        "id": "R4YgtaqtYklH",
        "colab": {
          "base_uri": "https://localhost:8080/",
          "height": 502
        },
        "outputId": "67547ec9-a658-43f0-a67a-662e802edd70"
      },
      "execution_count": null,
      "outputs": [
        {
          "output_type": "display_data",
          "data": {
            "text/plain": [
              "<Figure size 720x576 with 1 Axes>"
            ],
            "image/png": "[encoded data removed]"
          },
          "metadata": {}
        }
      ]
    },
    {
      "cell_type": "markdown",
      "source": [
        "##### 1. Why did you pick the specific chart?"
      ],
      "metadata": {
        "id": "t6dVpIINYklI"
      }
    },
    {
      "cell_type": "markdown",
      "source": [
        "To find which meal is most preferred using barplot."
      ],
      "metadata": {
        "id": "5aaW0BYyYklI"
      }
    },
    {
      "cell_type": "markdown",
      "source": [
        "##### 2. What is/are the insight(s) found from the chart?"
      ],
      "metadata": {
        "id": "ijmpgYnKYklI"
      }
    },
    {
      "cell_type": "markdown",
      "source": [
        "It has been observed that BB-Breakfast and Bed(also breakfast and room) is the most demanded Meal in both the hotels."
      ],
      "metadata": {
        "id": "PSx9atu2YklI"
      }
    },
    {
      "cell_type": "markdown",
      "source": [
        "##### 3. Will the gained insights help creating a positive business impact? \n",
        "Are there any insights that lead to negative growth? Justify with specific reason."
      ],
      "metadata": {
        "id": "-JiQyfWJYklI"
      }
    },
    {
      "cell_type": "markdown",
      "source": [
        "Yes,the gained insights help in creating positive bussiness impact. From the insight it is clear that most of guests prefer to take the breakfast and leave for their official work and they will come back in the night only. So, the hotels can add more options in their BB-type meal to improve the guests experience."
      ],
      "metadata": {
        "id": "BcBbebzrYklV"
      }
    },
    {
      "cell_type": "markdown",
      "source": [
        "#### Chart - 3"
      ],
      "metadata": {
        "id": "EM7whBJCYoAo"
      }
    },
    {
      "cell_type": "code",
      "source": [
        "# Chart - 3 visualization code\n",
        "df1=data[(data['is_canceled']==1)] #cancelled bookings\n",
        "sns.countplot(data=df1,x='distribution_channel')\n",
        "plt.show()"
      ],
      "metadata": {
        "id": "t6GMdE67YoAp",
        "colab": {
          "base_uri": "https://localhost:8080/",
          "height": 285
        },
        "outputId": "f696b6fc-7cbb-4aa7-dae3-3395f98fa2c2"
      },
      "execution_count": null,
      "outputs": [
        {
          "output_type": "display_data",
          "data": {
            "text/plain": [
              "<Figure size 432x288 with 1 Axes>"
            ],
            "image/png": "[encoded data removed]"
          },
          "metadata": {}
        }
      ]
    },
    {
      "cell_type": "markdown",
      "source": [
        "##### 1. Why did you pick the specific chart?"
      ],
      "metadata": {
        "id": "fge-S5ZAYoAp"
      }
    },
    {
      "cell_type": "markdown",
      "source": [
        "To find which distribution channel has more cancelled bookings comparitively using barplot."
      ],
      "metadata": {
        "id": "5dBItgRVYoAp"
      }
    },
    {
      "cell_type": "markdown",
      "source": [
        "##### 2. What is/are the insight(s) found from the chart?"
      ],
      "metadata": {
        "id": "85gYPyotYoAp"
      }
    },
    {
      "cell_type": "markdown",
      "source": [
        "As we can observe from the graph that the most cancellation is done via TA/TO(Travel Agent/Tour Operator) distrbution Channel."
      ],
      "metadata": {
        "id": "4jstXR6OYoAp"
      }
    },
    {
      "cell_type": "markdown",
      "source": [
        "##### 3. Will the gained insights help creating a positive business impact? \n",
        "Are there any insights that lead to negative growth? Justify with specific reason."
      ],
      "metadata": {
        "id": "RoGjAbkUYoAp"
      }
    },
    {
      "cell_type": "markdown",
      "source": [
        "Actually more bookings are done using TA/TO. After analysing the above graph we observed that the hotel also has more cancelled bookings by TA/TO so the distribution channel should take the measures to reduce the cancellations going to happen. "
      ],
      "metadata": {
        "id": "zfJ8IqMcYoAp"
      }
    },
    {
      "cell_type": "markdown",
      "source": [
        "#### Chart - 4"
      ],
      "metadata": {
        "id": "4Of9eVA-YrdM"
      }
    },
    {
      "cell_type": "code",
      "source": [
        "# Chart - 4 visualization code\n",
        "df1 = data[(data[\"is_canceled\"]==0)]\n",
        "df2 = df1.groupby([\"hotel\"])[\"adr\"].sum().reset_index()\n",
        "plt.figure(figsize=(6,6))\n",
        "explode_=[0.15,0]\n",
        "plt.pie(df2[\"adr\"],labels=df2[\"hotel\"],explode=explode_,shadow=True)\n",
        "plt.legend()\n",
        "plt.show()"
      ],
      "metadata": {
        "id": "irlUoxc8YrdO",
        "colab": {
          "base_uri": "https://localhost:8080/",
          "height": 357
        },
        "outputId": "bcee0917-69f6-46f1-ee25-72d839a98b15"
      },
      "execution_count": null,
      "outputs": [
        {
          "output_type": "display_data",
          "data": {
            "text/plain": [
              "<Figure size 432x432 with 1 Axes>"
            ],
            "image/png": "[encoded data removed]"
          },
          "metadata": {}
        }
      ]
    },
    {
      "cell_type": "markdown",
      "source": [
        "##### 1. Why did you pick the specific chart?"
      ],
      "metadata": {
        "id": "iky9q4vBYrdO"
      }
    },
    {
      "cell_type": "markdown",
      "source": [
        "To find which has more revenue using pie chart"
      ],
      "metadata": {
        "id": "aJRCwT6DYrdO"
      }
    },
    {
      "cell_type": "markdown",
      "source": [
        "##### 2. What is/are the insight(s) found from the chart?"
      ],
      "metadata": {
        "id": "F6T5p64dYrdO"
      }
    },
    {
      "cell_type": "markdown",
      "source": [
        "City Hotel has High Revenue than the Resort Hotel."
      ],
      "metadata": {
        "id": "Xx8WAJvtYrdO"
      }
    },
    {
      "cell_type": "markdown",
      "source": [
        "##### 3. Will the gained insights help creating a positive business impact? \n",
        "Are there any insights that lead to negative growth? Justify with specific reason."
      ],
      "metadata": {
        "id": "y-Ehk30pYrdP"
      }
    },
    {
      "cell_type": "markdown",
      "source": [
        "Yes,the gained insights help in creating positive bussiness impact on City Hotel. The Resort hotel needs to increase their marketing strategies so that more number of customers attracted towards it. They should also improve their hospitality and other various services."
      ],
      "metadata": {
        "id": "jLNxxz7MYrdP"
      }
    },
    {
      "cell_type": "markdown",
      "source": [
        "#### Chart - 5"
      ],
      "metadata": {
        "id": "bamQiAODYuh1"
      }
    },
    {
      "cell_type": "code",
      "source": [
        "# Chart - 5 visualization code\n",
        "df1 = data[(data[\"is_canceled\"]==0)]\n",
        "plt.figure(figsize=(20,10))\n",
        "sns.lineplot(data=df1, x=\"arrival_date_month\", y=\"adr\",hue=\"hotel\")\n",
        "plt.legend()\n",
        "plt.show()"
      ],
      "metadata": {
        "id": "TIJwrbroYuh3",
        "colab": {
          "base_uri": "https://localhost:8080/",
          "height": 507
        },
        "outputId": "4e548bf0-acb5-44d0-ab84-c5e45239785b"
      },
      "execution_count": null,
      "outputs": [
        {
          "output_type": "display_data",
          "data": {
            "text/plain": [
              "<Figure size 1440x720 with 1 Axes>"
            ],
            "image/png": "[encoded data removed]"
          },
          "metadata": {}
        }
      ]
    },
    {
      "cell_type": "markdown",
      "source": [
        "##### 1. Why did you pick the specific chart?"
      ],
      "metadata": {
        "id": "QHF8YVU7Yuh3"
      }
    },
    {
      "cell_type": "markdown",
      "source": [
        "To find in which month revenue is high."
      ],
      "metadata": {
        "id": "dcxuIMRPYuh3"
      }
    },
    {
      "cell_type": "markdown",
      "source": [
        "##### 2. What is/are the insight(s) found from the chart?"
      ],
      "metadata": {
        "id": "GwzvFGzlYuh3"
      }
    },
    {
      "cell_type": "markdown",
      "source": [
        "August month has highest revenue in both the hotels."
      ],
      "metadata": {
        "id": "uyqkiB8YYuh3"
      }
    },
    {
      "cell_type": "markdown",
      "source": [
        "##### 3. Will the gained insights help creating a positive business impact? \n",
        "Are there any insights that lead to negative growth? Justify with specific reason."
      ],
      "metadata": {
        "id": "qYpmQ266Yuh3"
      }
    },
    {
      "cell_type": "markdown",
      "source": [
        "Yes, the gained insights help us to improve in our bussiness as we have seen above that august month have the highest revenue so we observed that in august month we will have more no of guest than the other moths so will prepare according to that like more staff in that perticular month, more rooms available in that month so that we can get more no of bookings without saying no to any customer."
      ],
      "metadata": {
        "id": "_WtzZ_hCYuh4"
      }
    },
    {
      "cell_type": "markdown",
      "source": [
        "#### Chart - 6"
      ],
      "metadata": {
        "id": "OH-pJp9IphqM"
      }
    },
    {
      "cell_type": "code",
      "source": [
        "# Chart - 6 visualization code\n",
        "country_wise_guests = df1[df1['is_canceled'] == 0]['country'].value_counts().reset_index()\n",
        "country_wise_guests.columns = ['country', 'No of guests']\n",
        "country_wise_guests.head(10)\n",
        "#Plotting the country_wise_guests data using batplot\n",
        "country_wise_guests = df1[df1['is_canceled'] == 0]['country'].value_counts()[:14]\n",
        "country_wise_guests.columns = ['country', 'No of guests']\n",
        "plt.figure(figsize=(10,10))\n",
        "country_wise_guests.plot(kind = \"bar\")\n",
        "plt.legend()\n",
        "plt.show()"
      ],
      "metadata": {
        "id": "kuRf4wtuphqN",
        "colab": {
          "base_uri": "https://localhost:8080/",
          "height": 608
        },
        "outputId": "26720f2c-5ba9-48c1-e872-a56793afdfbb"
      },
      "execution_count": null,
      "outputs": [
        {
          "output_type": "display_data",
          "data": {
            "text/plain": [
              "<Figure size 720x720 with 1 Axes>"
            ],
            "image/png": "[encoded data removed]"
          },
          "metadata": {}
        }
      ]
    },
    {
      "cell_type": "markdown",
      "source": [
        "##### 1. Why did you pick the specific chart?"
      ],
      "metadata": {
        "id": "bbFf2-_FphqN"
      }
    },
    {
      "cell_type": "markdown",
      "source": [
        "To find the countries from which more guests are visiting the hotels using table and bar chart."
      ],
      "metadata": {
        "id": "loh7H2nzphqN"
      }
    },
    {
      "cell_type": "markdown",
      "source": [
        "##### 2. What is/are the insight(s) found from the chart?"
      ],
      "metadata": {
        "id": "_ouA3fa0phqN"
      }
    },
    {
      "cell_type": "markdown",
      "source": [
        "Portugal(PRT) has most visting guest among all the other countries."
      ],
      "metadata": {
        "id": "VECbqPI7phqN"
      }
    },
    {
      "cell_type": "markdown",
      "source": [
        "##### 3. Will the gained insights help creating a positive business impact? \n",
        "Are there any insights that lead to negative growth? Justify with specific reason."
      ],
      "metadata": {
        "id": "Seke61FWphqN"
      }
    },
    {
      "cell_type": "markdown",
      "source": [
        "Yes, the gained insights are helping us to create a positive impact in our bussiness as we observed above that we have some of the countries from where we have more noof customers every year so following that pattern we can give some special discounts to the guests coming from those countries and some more discounts to the guests coming from other countries also so that we can connect with other countries also and it will definately improve our bussiness.\n"
      ],
      "metadata": {
        "id": "DW4_bGpfphqN"
      }
    },
    {
      "cell_type": "markdown",
      "source": [
        "#### Chart - 7"
      ],
      "metadata": {
        "id": "PIIx-8_IphqN"
      }
    },
    {
      "cell_type": "code",
      "source": [
        "# Chart - 7 visualization code\n",
        "confirmed_cancellation=data[(data['is_canceled']==1)].sort_values(by=\"hotel\")\n",
        "p1=sns.countplot(data=confirmed_cancellation,x=\"hotel\",palette=\"pastel\")\n",
        "p1.set_title(\"Cancelled Bookings\")\n",
        "p1.set_ylabel(\"Total number of Bookings\")\n",
        "plt.show()"
      ],
      "metadata": {
        "id": "lqAIGUfyphqO",
        "colab": {
          "base_uri": "https://localhost:8080/",
          "height": 301
        },
        "outputId": "e0775857-9617-4dc0-abed-be3d81c8f9d2"
      },
      "execution_count": null,
      "outputs": [
        {
          "output_type": "display_data",
          "data": {
            "text/plain": [
              "<Figure size 432x288 with 1 Axes>"
            ],
            "image/png": "[encoded data removed]"
          },
          "metadata": {}
        }
      ]
    },
    {
      "cell_type": "markdown",
      "source": [
        "##### 1. Why did you pick the specific chart?"
      ],
      "metadata": {
        "id": "t27r6nlMphqO"
      }
    },
    {
      "cell_type": "markdown",
      "source": [
        "To plot which hotel has more cancellation in bookings"
      ],
      "metadata": {
        "id": "iv6ro40sphqO"
      }
    },
    {
      "cell_type": "markdown",
      "source": [
        "##### 2. What is/are the insight(s) found from the chart?"
      ],
      "metadata": {
        "id": "r2jJGEOYphqO"
      }
    },
    {
      "cell_type": "markdown",
      "source": [
        "According to our analysis resort hotel has around 11000 cancelled booking and city hotel has around 38000 cancelled booking so it can be concluded that city hotel has higher cancelled booking than resort hotel"
      ],
      "metadata": {
        "id": "Po6ZPi4hphqO"
      }
    },
    {
      "cell_type": "markdown",
      "source": [
        "##### 3. Will the gained insights help creating a positive business impact? \n",
        "Are there any insights that lead to negative growth? Justify with specific reason."
      ],
      "metadata": {
        "id": "b0JNsNcRphqO"
      }
    },
    {
      "cell_type": "markdown",
      "source": [
        "Since there are less bookings in resort hotel, the cancellations are also less.  City hotel needs to reduce their number of cancellation, they should clearly mention on their website or channel about the availability of rooms and the  cancellation policies."
      ],
      "metadata": {
        "id": "xvSq8iUTphqO"
      }
    },
    {
      "cell_type": "markdown",
      "source": [
        "#### Chart - 8"
      ],
      "metadata": {
        "id": "BZR9WyysphqO"
      }
    },
    {
      "cell_type": "code",
      "source": [
        "# Chart - 8 visualization code\n",
        "df1=data[(data['is_canceled']==0)]\n",
        "df2=df1.groupby([\"hotel\"])[\"deposit_type\"].value_counts()\n",
        "df3 = pd.DataFrame(df2)\n",
        "df3"
      ],
      "metadata": {
        "id": "TdPTWpAVphqO",
        "colab": {
          "base_uri": "https://localhost:8080/",
          "height": 269
        },
        "outputId": "5093d5e3-b4fe-467b-e5d5-f6882e11a64e"
      },
      "execution_count": null,
      "outputs": [
        {
          "output_type": "execute_result",
          "data": {
            "text/plain": [
              "                           deposit_type\n",
              "hotel        deposit_type              \n",
              "City Hotel   No Deposit           37350\n",
              "             Non Refund              24\n",
              "             Refundable               5\n",
              "Resort Hotel No Deposit           25885\n",
              "             Refundable              76\n",
              "             Non Refund              31"
            ],
            "text/html": [
              "\n",
              "  <div id=\"df-f9ebda1a-e48e-4657-9247-194c8f8b4d30\">\n",
              "    <div class=\"colab-df-container\">\n",
              "      <div>\n",
              "<style scoped>\n",
              "    .dataframe tbody tr th:only-of-type {\n",
              "        vertical-align: middle;\n",
              "    }\n",
              "\n",
              "    .dataframe tbody tr th {\n",
              "        vertical-align: top;\n",
              "    }\n",
              "\n",
              "    .dataframe thead th {\n",
              "        text-align: right;\n",
              "    }\n",
              "</style>\n",
              "<table border=\"1\" class=\"dataframe\">\n",
              "  <thead>\n",
              "    <tr style=\"text-align: right;\">\n",
              "      <th></th>\n",
              "      <th></th>\n",
              "      <th>deposit_type</th>\n",
              "    </tr>\n",
              "    <tr>\n",
              "      <th>hotel</th>\n",
              "      <th>deposit_type</th>\n",
              "      <th></th>\n",
              "    </tr>\n",
              "  </thead>\n",
              "  <tbody>\n",
              "    <tr>\n",
              "      <th rowspan=\"3\" valign=\"top\">City Hotel</th>\n",
              "      <th>No Deposit</th>\n",
              "      <td>37350</td>\n",
              "    </tr>\n",
              "    <tr>\n",
              "      <th>Non Refund</th>\n",
              "      <td>24</td>\n",
              "    </tr>\n",
              "    <tr>\n",
              "      <th>Refundable</th>\n",
              "      <td>5</td>\n",
              "    </tr>\n",
              "    <tr>\n",
              "      <th rowspan=\"3\" valign=\"top\">Resort Hotel</th>\n",
              "      <th>No Deposit</th>\n",
              "      <td>25885</td>\n",
              "    </tr>\n",
              "    <tr>\n",
              "      <th>Refundable</th>\n",
              "      <td>76</td>\n",
              "    </tr>\n",
              "    <tr>\n",
              "      <th>Non Refund</th>\n",
              "      <td>31</td>\n",
              "    </tr>\n",
              "  </tbody>\n",
              "</table>\n",
              "</div>\n",
              "      <button class=\"colab-df-convert\" onclick=\"convertToInteractive('df-f9ebda1a-e48e-4657-9247-194c8f8b4d30')\"\n",
              "              title=\"Convert this dataframe to an interactive table.\"\n",
              "              style=\"display:none;\">\n",
              "        \n",
              "  <svg xmlns=\"http://www.w3.org/2000/svg\" height=\"24px\"viewBox=\"0 0 24 24\"\n",
              "       width=\"24px\">\n",
              "    <path d=\"M0 0h24v24H0V0z\" fill=\"none\"/>\n",
              "    <path d=\"M18.56 5.44l.94 2.06.94-2.06 2.06-.94-2.06-.94-.94-2.06-.94 2.06-2.06.94zm-11 1L8.5 8.5l.94-2.06 2.06-.94-2.06-.94L8.5 2.5l-.94 2.06-2.06.94zm10 10l.94 2.06.94-2.06 2.06-.94-2.06-.94-.94-2.06-.94 2.06-2.06.94z\"/><path d=\"M17.41 7.96l-1.37-1.37c-.4-.4-.92-.59-1.43-.59-.52 0-1.04.2-1.43.59L10.3 9.45l-7.72 7.72c-.78.78-.78 2.05 0 2.83L4 21.41c.39.39.9.59 1.41.59.51 0 1.02-.2 1.41-.59l7.78-7.78 2.81-2.81c.8-.78.8-2.07 0-2.86zM5.41 20L4 18.59l7.72-7.72 1.47 1.35L5.41 20z\"/>\n",
              "  </svg>\n",
              "      </button>\n",
              "      \n",
              "  <style>\n",
              "    .colab-df-container {\n",
              "      display:flex;\n",
              "      flex-wrap:wrap;\n",
              "      gap: 12px;\n",
              "    }\n",
              "\n",
              "    .colab-df-convert {\n",
              "      background-color: #E8F0FE;\n",
              "      border: none;\n",
              "      border-radius: 50%;\n",
              "      cursor: pointer;\n",
              "      display: none;\n",
              "      fill: #1967D2;\n",
              "      height: 32px;\n",
              "      padding: 0 0 0 0;\n",
              "      width: 32px;\n",
              "    }\n",
              "\n",
              "    .colab-df-convert:hover {\n",
              "      background-color: #E2EBFA;\n",
              "      box-shadow: 0px 1px 2px rgba(60, 64, 67, 0.3), 0px 1px 3px 1px rgba(60, 64, 67, 0.15);\n",
              "      fill: #174EA6;\n",
              "    }\n",
              "\n",
              "    [theme=dark] .colab-df-convert {\n",
              "      background-color: #3B4455;\n",
              "      fill: #D2E3FC;\n",
              "    }\n",
              "\n",
              "    [theme=dark] .colab-df-convert:hover {\n",
              "      background-color: #434B5C;\n",
              "      box-shadow: 0px 1px 3px 1px rgba(0, 0, 0, 0.15);\n",
              "      filter: drop-shadow(0px 1px 2px rgba(0, 0, 0, 0.3));\n",
              "      fill: #FFFFFF;\n",
              "    }\n",
              "  </style>\n",
              "\n",
              "      <script>\n",
              "        const buttonEl =\n",
              "          document.querySelector('#df-f9ebda1a-e48e-4657-9247-194c8f8b4d30 button.colab-df-convert');\n",
              "        buttonEl.style.display =\n",
              "          google.colab.kernel.accessAllowed ? 'block' : 'none';\n",
              "\n",
              "        async function convertToInteractive(key) {\n",
              "          const element = document.querySelector('#df-f9ebda1a-e48e-4657-9247-194c8f8b4d30');\n",
              "          const dataTable =\n",
              "            await google.colab.kernel.invokeFunction('convertToInteractive',\n",
              "                                                     [key], {});\n",
              "          if (!dataTable) return;\n",
              "\n",
              "          const docLinkHtml = 'Like what you see? Visit the ' +\n",
              "            '<a target=\"_blank\" href=https://colab.research.google.com/notebooks/data_table.ipynb>data table notebook</a>'\n",
              "            + ' to learn more about interactive tables.';\n",
              "          element.innerHTML = '';\n",
              "          dataTable['output_type'] = 'display_data';\n",
              "          await google.colab.output.renderOutput(dataTable, element);\n",
              "          const docLink = document.createElement('div');\n",
              "          docLink.innerHTML = docLinkHtml;\n",
              "          element.appendChild(docLink);\n",
              "        }\n",
              "      </script>\n",
              "    </div>\n",
              "  </div>\n",
              "  "
            ]
          },
          "metadata": {},
          "execution_count": 69
        }
      ]
    },
    {
      "cell_type": "markdown",
      "source": [
        "##### 1. Why did you pick the specific chart?"
      ],
      "metadata": {
        "id": "jj7wYXLtphqO"
      }
    },
    {
      "cell_type": "markdown",
      "source": [
        "To find the most used deposit type by the guests?"
      ],
      "metadata": {
        "id": "Ob8u6rCTphqO"
      }
    },
    {
      "cell_type": "markdown",
      "source": [
        "##### 2. What is/are the insight(s) found from the chart?"
      ],
      "metadata": {
        "id": "eZrbJ2SmphqO"
      }
    },
    {
      "cell_type": "markdown",
      "source": [
        "In both the hotels customers preferred to choose \"No Deposit\" at the time of booking and they choose to deposit at the time of check-in."
      ],
      "metadata": {
        "id": "mZtgC_hjphqO"
      }
    },
    {
      "cell_type": "markdown",
      "source": [
        "##### 3. Will the gained insights help creating a positive business impact? \n",
        "Are there any insights that lead to negative growth? Justify with specific reason."
      ],
      "metadata": {
        "id": "rFu4xreNphqO"
      }
    },
    {
      "cell_type": "markdown",
      "source": [
        "As we can see in above analysis that in both the hotels there are more no of customer with no deposit type at the time of booking so we can fix a booking ammount whih is very less so that if the customer cancel the booking at the last moment we also did not suffer a huge loss and this will improve our business. "
      ],
      "metadata": {
        "id": "ey_0qi68phqO"
      }
    },
    {
      "cell_type": "markdown",
      "source": [
        "#### Chart - 9"
      ],
      "metadata": {
        "id": "YJ55k-q6phqO"
      }
    },
    {
      "cell_type": "code",
      "source": [
        "# Chart - 9 visualization code\n",
        "df1=data[(data['is_canceled']==0)]\n",
        "df2=df1.groupby([\"customer_type\"])[\"total_of_special_requests\"].sum().sort_values(ascending=False).reset_index()\n",
        "df2[\"total_of_special_requests\"]=round(df2[\"total_of_special_requests\"]/df1.shape[0]*100,2)\n",
        "plt.figure(figsize=(12,8))\n",
        "explode_=[0.15,0,0,0]\n",
        "label_=df2[\"customer_type\"]\n",
        "plt.pie(df2[\"total_of_special_requests\"],labels=label_,explode=explode_,shadow=True)\n",
        "plt.legend()\n",
        "plt.show()\n",
        "df2"
      ],
      "metadata": {
        "id": "B2aS4O1ophqO",
        "colab": {
          "base_uri": "https://localhost:8080/",
          "height": 624
        },
        "outputId": "c29b069a-9688-472d-af53-1b58ea2c37bc"
      },
      "execution_count": null,
      "outputs": [
        {
          "output_type": "display_data",
          "data": {
            "text/plain": [
              "<Figure size 864x576 with 1 Axes>"
            ],
            "image/png": "[encoded data removed]"
          },
          "metadata": {}
        },
        {
          "output_type": "execute_result",
          "data": {
            "text/plain": [
              "     customer_type  total_of_special_requests\n",
              "0        Transient                      64.23\n",
              "1  Transient-Party                       7.83\n",
              "2         Contract                       3.45\n",
              "3            Group                       0.53"
            ],
            "text/html": [
              "\n",
              "  <div id=\"df-3e428ebd-6398-4775-b397-26d483be4ca4\">\n",
              "    <div class=\"colab-df-container\">\n",
              "      <div>\n",
              "<style scoped>\n",
              "    .dataframe tbody tr th:only-of-type {\n",
              "        vertical-align: middle;\n",
              "    }\n",
              "\n",
              "    .dataframe tbody tr th {\n",
              "        vertical-align: top;\n",
              "    }\n",
              "\n",
              "    .dataframe thead th {\n",
              "        text-align: right;\n",
              "    }\n",
              "</style>\n",
              "<table border=\"1\" class=\"dataframe\">\n",
              "  <thead>\n",
              "    <tr style=\"text-align: right;\">\n",
              "      <th></th>\n",
              "      <th>customer_type</th>\n",
              "      <th>total_of_special_requests</th>\n",
              "    </tr>\n",
              "  </thead>\n",
              "  <tbody>\n",
              "    <tr>\n",
              "      <th>0</th>\n",
              "      <td>Transient</td>\n",
              "      <td>64.23</td>\n",
              "    </tr>\n",
              "    <tr>\n",
              "      <th>1</th>\n",
              "      <td>Transient-Party</td>\n",
              "      <td>7.83</td>\n",
              "    </tr>\n",
              "    <tr>\n",
              "      <th>2</th>\n",
              "      <td>Contract</td>\n",
              "      <td>3.45</td>\n",
              "    </tr>\n",
              "    <tr>\n",
              "      <th>3</th>\n",
              "      <td>Group</td>\n",
              "      <td>0.53</td>\n",
              "    </tr>\n",
              "  </tbody>\n",
              "</table>\n",
              "</div>\n",
              "      <button class=\"colab-df-convert\" onclick=\"convertToInteractive('df-3e428ebd-6398-4775-b397-26d483be4ca4')\"\n",
              "              title=\"Convert this dataframe to an interactive table.\"\n",
              "              style=\"display:none;\">\n",
              "        \n",
              "  <svg xmlns=\"http://www.w3.org/2000/svg\" height=\"24px\"viewBox=\"0 0 24 24\"\n",
              "       width=\"24px\">\n",
              "    <path d=\"M0 0h24v24H0V0z\" fill=\"none\"/>\n",
              "    <path d=\"M18.56 5.44l.94 2.06.94-2.06 2.06-.94-2.06-.94-.94-2.06-.94 2.06-2.06.94zm-11 1L8.5 8.5l.94-2.06 2.06-.94-2.06-.94L8.5 2.5l-.94 2.06-2.06.94zm10 10l.94 2.06.94-2.06 2.06-.94-2.06-.94-.94-2.06-.94 2.06-2.06.94z\"/><path d=\"M17.41 7.96l-1.37-1.37c-.4-.4-.92-.59-1.43-.59-.52 0-1.04.2-1.43.59L10.3 9.45l-7.72 7.72c-.78.78-.78 2.05 0 2.83L4 21.41c.39.39.9.59 1.41.59.51 0 1.02-.2 1.41-.59l7.78-7.78 2.81-2.81c.8-.78.8-2.07 0-2.86zM5.41 20L4 18.59l7.72-7.72 1.47 1.35L5.41 20z\"/>\n",
              "  </svg>\n",
              "      </button>\n",
              "      \n",
              "  <style>\n",
              "    .colab-df-container {\n",
              "      display:flex;\n",
              "      flex-wrap:wrap;\n",
              "      gap: 12px;\n",
              "    }\n",
              "\n",
              "    .colab-df-convert {\n",
              "      background-color: #E8F0FE;\n",
              "      border: none;\n",
              "      border-radius: 50%;\n",
              "      cursor: pointer;\n",
              "      display: none;\n",
              "      fill: #1967D2;\n",
              "      height: 32px;\n",
              "      padding: 0 0 0 0;\n",
              "      width: 32px;\n",
              "    }\n",
              "\n",
              "    .colab-df-convert:hover {\n",
              "      background-color: #E2EBFA;\n",
              "      box-shadow: 0px 1px 2px rgba(60, 64, 67, 0.3), 0px 1px 3px 1px rgba(60, 64, 67, 0.15);\n",
              "      fill: #174EA6;\n",
              "    }\n",
              "\n",
              "    [theme=dark] .colab-df-convert {\n",
              "      background-color: #3B4455;\n",
              "      fill: #D2E3FC;\n",
              "    }\n",
              "\n",
              "    [theme=dark] .colab-df-convert:hover {\n",
              "      background-color: #434B5C;\n",
              "      box-shadow: 0px 1px 3px 1px rgba(0, 0, 0, 0.15);\n",
              "      filter: drop-shadow(0px 1px 2px rgba(0, 0, 0, 0.3));\n",
              "      fill: #FFFFFF;\n",
              "    }\n",
              "  </style>\n",
              "\n",
              "      <script>\n",
              "        const buttonEl =\n",
              "          document.querySelector('#df-3e428ebd-6398-4775-b397-26d483be4ca4 button.colab-df-convert');\n",
              "        buttonEl.style.display =\n",
              "          google.colab.kernel.accessAllowed ? 'block' : 'none';\n",
              "\n",
              "        async function convertToInteractive(key) {\n",
              "          const element = document.querySelector('#df-3e428ebd-6398-4775-b397-26d483be4ca4');\n",
              "          const dataTable =\n",
              "            await google.colab.kernel.invokeFunction('convertToInteractive',\n",
              "                                                     [key], {});\n",
              "          if (!dataTable) return;\n",
              "\n",
              "          const docLinkHtml = 'Like what you see? Visit the ' +\n",
              "            '<a target=\"_blank\" href=https://colab.research.google.com/notebooks/data_table.ipynb>data table notebook</a>'\n",
              "            + ' to learn more about interactive tables.';\n",
              "          element.innerHTML = '';\n",
              "          dataTable['output_type'] = 'display_data';\n",
              "          await google.colab.output.renderOutput(dataTable, element);\n",
              "          const docLink = document.createElement('div');\n",
              "          docLink.innerHTML = docLinkHtml;\n",
              "          element.appendChild(docLink);\n",
              "        }\n",
              "      </script>\n",
              "    </div>\n",
              "  </div>\n",
              "  "
            ]
          },
          "metadata": {},
          "execution_count": 70
        }
      ]
    },
    {
      "cell_type": "markdown",
      "source": [
        "##### 1. Why did you pick the specific chart?"
      ],
      "metadata": {
        "id": "gCFgpxoyphqP"
      }
    },
    {
      "cell_type": "markdown",
      "source": [
        "To find which customers are demanding more special requests"
      ],
      "metadata": {
        "id": "TVxDimi2phqP"
      }
    },
    {
      "cell_type": "markdown",
      "source": [
        "##### 2. What is/are the insight(s) found from the chart?"
      ],
      "metadata": {
        "id": "OVtJsKN_phqQ"
      }
    },
    {
      "cell_type": "markdown",
      "source": [
        "Describing the customer type:\n",
        "*   Transient Party- Transient Party type customers are those who are looking for short and often urgent hotel stays.\n",
        "*   Contract \n",
        "*   Transient - Transient guests are customers are those who consist of individuals or groups that are occupying less than 10 rooms per night\n",
        "*   Group\n",
        "\n",
        "Transient customer type has demanded the most special requests."
      ],
      "metadata": {
        "id": "ngGi97qjphqQ"
      }
    },
    {
      "cell_type": "markdown",
      "source": [
        "##### 3. Will the gained insights help creating a positive business impact? \n",
        "Are there any insights that lead to negative growth? Justify with specific reason."
      ],
      "metadata": {
        "id": "lssrdh5qphqQ"
      }
    },
    {
      "cell_type": "markdown",
      "source": [
        "As we can see that we have most of the customers from transient party type so we can reserve some rooms specially for the transient type customers if we do so we can do a lot more bussiness because we can provide more rooms to transient type customers without saying noto any customer."
      ],
      "metadata": {
        "id": "tBpY5ekJphqQ"
      }
    },
    {
      "cell_type": "markdown",
      "source": [
        "#### Chart - 10"
      ],
      "metadata": {
        "id": "U2RJ9gkRphqQ"
      }
    },
    {
      "cell_type": "code",
      "source": [
        "# Chart - 10 visualization code\n",
        "df1=data[(data['is_canceled']==0) & (data[\"required_car_parking_spaces\"]==1)]\n",
        "df2=df1.groupby([\"hotel\"])[\"required_car_parking_spaces\"].sum().reset_index()\n",
        "df2\n",
        "x=[0,1]\n",
        "labels=[df2[\"hotel\"][0],df2[\"hotel\"][1]]\n",
        "df2.plot(kind=\"bar\",color='g')\n",
        "plt.xticks(x,labels,rotation=0)\n",
        "plt.show()\n",
        "df2"
      ],
      "metadata": {
        "id": "GM7a4YP4phqQ",
        "colab": {
          "base_uri": "https://localhost:8080/",
          "height": 363
        },
        "outputId": "3df7fcba-dd98-4355-b7b4-dbddf8261bd2"
      },
      "execution_count": null,
      "outputs": [
        {
          "output_type": "display_data",
          "data": {
            "text/plain": [
              "<Figure size 432x288 with 1 Axes>"
            ],
            "image/png": "[encoded data removed]"
          },
          "metadata": {}
        },
        {
          "output_type": "execute_result",
          "data": {
            "text/plain": [
              "          hotel  required_car_parking_spaces\n",
              "0    City Hotel                         1891\n",
              "1  Resort Hotel                         5389"
            ],
            "text/html": [
              "\n",
              "  <div id=\"df-18eeef61-3a34-4de7-a635-5b288c93051d\">\n",
              "    <div class=\"colab-df-container\">\n",
              "      <div>\n",
              "<style scoped>\n",
              "    .dataframe tbody tr th:only-of-type {\n",
              "        vertical-align: middle;\n",
              "    }\n",
              "\n",
              "    .dataframe tbody tr th {\n",
              "        vertical-align: top;\n",
              "    }\n",
              "\n",
              "    .dataframe thead th {\n",
              "        text-align: right;\n",
              "    }\n",
              "</style>\n",
              "<table border=\"1\" class=\"dataframe\">\n",
              "  <thead>\n",
              "    <tr style=\"text-align: right;\">\n",
              "      <th></th>\n",
              "      <th>hotel</th>\n",
              "      <th>required_car_parking_spaces</th>\n",
              "    </tr>\n",
              "  </thead>\n",
              "  <tbody>\n",
              "    <tr>\n",
              "      <th>0</th>\n",
              "      <td>City Hotel</td>\n",
              "      <td>1891</td>\n",
              "    </tr>\n",
              "    <tr>\n",
              "      <th>1</th>\n",
              "      <td>Resort Hotel</td>\n",
              "      <td>5389</td>\n",
              "    </tr>\n",
              "  </tbody>\n",
              "</table>\n",
              "</div>\n",
              "      <button class=\"colab-df-convert\" onclick=\"convertToInteractive('df-18eeef61-3a34-4de7-a635-5b288c93051d')\"\n",
              "              title=\"Convert this dataframe to an interactive table.\"\n",
              "              style=\"display:none;\">\n",
              "        \n",
              "  <svg xmlns=\"http://www.w3.org/2000/svg\" height=\"24px\"viewBox=\"0 0 24 24\"\n",
              "       width=\"24px\">\n",
              "    <path d=\"M0 0h24v24H0V0z\" fill=\"none\"/>\n",
              "    <path d=\"M18.56 5.44l.94 2.06.94-2.06 2.06-.94-2.06-.94-.94-2.06-.94 2.06-2.06.94zm-11 1L8.5 8.5l.94-2.06 2.06-.94-2.06-.94L8.5 2.5l-.94 2.06-2.06.94zm10 10l.94 2.06.94-2.06 2.06-.94-2.06-.94-.94-2.06-.94 2.06-2.06.94z\"/><path d=\"M17.41 7.96l-1.37-1.37c-.4-.4-.92-.59-1.43-.59-.52 0-1.04.2-1.43.59L10.3 9.45l-7.72 7.72c-.78.78-.78 2.05 0 2.83L4 21.41c.39.39.9.59 1.41.59.51 0 1.02-.2 1.41-.59l7.78-7.78 2.81-2.81c.8-.78.8-2.07 0-2.86zM5.41 20L4 18.59l7.72-7.72 1.47 1.35L5.41 20z\"/>\n",
              "  </svg>\n",
              "      </button>\n",
              "      \n",
              "  <style>\n",
              "    .colab-df-container {\n",
              "      display:flex;\n",
              "      flex-wrap:wrap;\n",
              "      gap: 12px;\n",
              "    }\n",
              "\n",
              "    .colab-df-convert {\n",
              "      background-color: #E8F0FE;\n",
              "      border: none;\n",
              "      border-radius: 50%;\n",
              "      cursor: pointer;\n",
              "      display: none;\n",
              "      fill: #1967D2;\n",
              "      height: 32px;\n",
              "      padding: 0 0 0 0;\n",
              "      width: 32px;\n",
              "    }\n",
              "\n",
              "    .colab-df-convert:hover {\n",
              "      background-color: #E2EBFA;\n",
              "      box-shadow: 0px 1px 2px rgba(60, 64, 67, 0.3), 0px 1px 3px 1px rgba(60, 64, 67, 0.15);\n",
              "      fill: #174EA6;\n",
              "    }\n",
              "\n",
              "    [theme=dark] .colab-df-convert {\n",
              "      background-color: #3B4455;\n",
              "      fill: #D2E3FC;\n",
              "    }\n",
              "\n",
              "    [theme=dark] .colab-df-convert:hover {\n",
              "      background-color: #434B5C;\n",
              "      box-shadow: 0px 1px 3px 1px rgba(0, 0, 0, 0.15);\n",
              "      filter: drop-shadow(0px 1px 2px rgba(0, 0, 0, 0.3));\n",
              "      fill: #FFFFFF;\n",
              "    }\n",
              "  </style>\n",
              "\n",
              "      <script>\n",
              "        const buttonEl =\n",
              "          document.querySelector('#df-18eeef61-3a34-4de7-a635-5b288c93051d button.colab-df-convert');\n",
              "        buttonEl.style.display =\n",
              "          google.colab.kernel.accessAllowed ? 'block' : 'none';\n",
              "\n",
              "        async function convertToInteractive(key) {\n",
              "          const element = document.querySelector('#df-18eeef61-3a34-4de7-a635-5b288c93051d');\n",
              "          const dataTable =\n",
              "            await google.colab.kernel.invokeFunction('convertToInteractive',\n",
              "                                                     [key], {});\n",
              "          if (!dataTable) return;\n",
              "\n",
              "          const docLinkHtml = 'Like what you see? Visit the ' +\n",
              "            '<a target=\"_blank\" href=https://colab.research.google.com/notebooks/data_table.ipynb>data table notebook</a>'\n",
              "            + ' to learn more about interactive tables.';\n",
              "          element.innerHTML = '';\n",
              "          dataTable['output_type'] = 'display_data';\n",
              "          await google.colab.output.renderOutput(dataTable, element);\n",
              "          const docLink = document.createElement('div');\n",
              "          docLink.innerHTML = docLinkHtml;\n",
              "          element.appendChild(docLink);\n",
              "        }\n",
              "      </script>\n",
              "    </div>\n",
              "  </div>\n",
              "  "
            ]
          },
          "metadata": {},
          "execution_count": 71
        }
      ]
    },
    {
      "cell_type": "markdown",
      "source": [
        "##### 1. Why did you pick the specific chart?"
      ],
      "metadata": {
        "id": "1M8mcRywphqQ"
      }
    },
    {
      "cell_type": "markdown",
      "source": [
        "To find which hotel is providing more required car parking spaces"
      ],
      "metadata": {
        "id": "8agQvks0phqQ"
      }
    },
    {
      "cell_type": "markdown",
      "source": [
        "##### 2. What is/are the insight(s) found from the chart?"
      ],
      "metadata": {
        "id": "tgIPom80phqQ"
      }
    },
    {
      "cell_type": "markdown",
      "source": [
        "Resort Hotel has more car parking space than City Hotel"
      ],
      "metadata": {
        "id": "Qp13pnNzphqQ"
      }
    },
    {
      "cell_type": "markdown",
      "source": [
        "##### 3. Will the gained insights help creating a positive business impact? \n",
        "Are there any insights that lead to negative growth? Justify with specific reason."
      ],
      "metadata": {
        "id": "JMzcOPDDphqR"
      }
    },
    {
      "cell_type": "markdown",
      "source": [
        "After analysing the above graph we can see that resort hotel have more no of car parking spaces than city hotel so it is good for resort hotel and we can suggest city hotel to improove their car parking spaces in order to attract customers who need car parking spaces neccessarily. "
      ],
      "metadata": {
        "id": "R4Ka1PC2phqR"
      }
    },
    {
      "cell_type": "markdown",
      "source": [
        "#### Chart - 11"
      ],
      "metadata": {
        "id": "x-EpHcCOp1ci"
      }
    },
    {
      "cell_type": "code",
      "source": [
        "# Chart - 11 visualization code\n",
        "valid_bookings=data[(data['is_canceled']==0)]#not cancelled bookings\n",
        "plt.figure(figsize=(10,8))\n",
        "p1=sns.countplot(data=valid_bookings,x=\"market_segment\")\n",
        "p1.set_title(\"Market segment based Bookings\")\n",
        "p1.set_ylabel(\"Total number of Bookings\")\n",
        "plt.show()"
      ],
      "metadata": {
        "id": "mAQTIvtqp1cj",
        "colab": {
          "base_uri": "https://localhost:8080/",
          "height": 518
        },
        "outputId": "972f274b-3a0f-4c94-f3b6-464326a6d22e"
      },
      "execution_count": null,
      "outputs": [
        {
          "output_type": "display_data",
          "data": {
            "text/plain": [
              "<Figure size 720x576 with 1 Axes>"
            ],
            "image/png": "[encoded data removed]"
          },
          "metadata": {}
        }
      ]
    },
    {
      "cell_type": "markdown",
      "source": [
        "##### 1. Why did you pick the specific chart?"
      ],
      "metadata": {
        "id": "X_VqEhTip1ck"
      }
    },
    {
      "cell_type": "markdown",
      "source": [
        "To find from which market segment there are more number of bookings"
      ],
      "metadata": {
        "id": "-vsMzt_np1ck"
      }
    },
    {
      "cell_type": "markdown",
      "source": [
        "##### 2. What is/are the insight(s) found from the chart?"
      ],
      "metadata": {
        "id": "8zGJKyg5p1ck"
      }
    },
    {
      "cell_type": "markdown",
      "source": [
        "Most number of booking are done through Online-TA(TA-travel Agent)."
      ],
      "metadata": {
        "id": "ZYdMsrqVp1ck"
      }
    },
    {
      "cell_type": "markdown",
      "source": [
        "##### 3. Will the gained insights help creating a positive business impact? \n",
        "Are there any insights that lead to negative growth? Justify with specific reason."
      ],
      "metadata": {
        "id": "PVzmfK_Ep1ck"
      }
    },
    {
      "cell_type": "markdown",
      "source": [
        "The gained insight helps in creating positive business impact only. The rates,policies(booking and cancellation) and amenities are comparitively better for Online-TA(TA-travel Agent) market segment. Other segments needs to increase their marketing and advertising. "
      ],
      "metadata": {
        "id": "druuKYZpp1ck"
      }
    },
    {
      "cell_type": "markdown",
      "source": [
        "#### Chart - 12"
      ],
      "metadata": {
        "id": "n3dbpmDWp1ck"
      }
    },
    {
      "cell_type": "code",
      "source": [
        "# Chart - 12 visualization code\n",
        "room_assigned = data.groupby('assigned_room_type')\n",
        "plt.figure(figsize=(10,10))\n",
        "df1['Num_of_bookings'] =room_assigned.size()\n",
        "sns.boxplot(x = df1['assigned_room_type'], y = df1['adr'])\n",
        "plt.show()"
      ],
      "metadata": {
        "id": "bwevp1tKp1ck",
        "colab": {
          "base_uri": "https://localhost:8080/",
          "height": 611
        },
        "outputId": "5531e7c7-fa22-468b-e5bf-a8a33ea92f91"
      },
      "execution_count": null,
      "outputs": [
        {
          "output_type": "display_data",
          "data": {
            "text/plain": [
              "<Figure size 720x720 with 1 Axes>"
            ],
            "image/png": "[encoded data removed]"
          },
          "metadata": {}
        }
      ]
    },
    {
      "cell_type": "markdown",
      "source": [
        "##### 1. Why did you pick the specific chart?"
      ],
      "metadata": {
        "id": "ylSl6qgtp1ck"
      }
    },
    {
      "cell_type": "markdown",
      "source": [
        "To find which roomtype is responsible for more revenue."
      ],
      "metadata": {
        "id": "m2xqNkiQp1ck"
      }
    },
    {
      "cell_type": "markdown",
      "source": [
        "##### 2. What is/are the insight(s) found from the chart?"
      ],
      "metadata": {
        "id": "ZWILFDl5p1ck"
      }
    },
    {
      "cell_type": "markdown",
      "source": [
        "**Mostly** C-Room type is assigned to the guests so it is providing more revenue comapred to other room types. H,E,G,F these room types are also providing good revenue."
      ],
      "metadata": {
        "id": "x-lUsV2mp1ck"
      }
    },
    {
      "cell_type": "markdown",
      "source": [
        "##### 3. Will the gained insights help creating a positive business impact? \n",
        "Are there any insights that lead to negative growth? Justify with specific reason."
      ],
      "metadata": {
        "id": "M7G43BXep1ck"
      }
    },
    {
      "cell_type": "markdown",
      "source": [
        "From the graph, it is clear that C-Room type is assigned to lot of guests. The hotels should increase the number of other type of rooms in order to meet the customer satisfaction and experience. So that the customer can choose the room according to their desire."
      ],
      "metadata": {
        "id": "5wwDJXsLp1cl"
      }
    },
    {
      "cell_type": "markdown",
      "source": [
        "#### Chart - 14 - Correlation Heatmap"
      ],
      "metadata": {
        "id": "NC_X3p0fY2L0"
      }
    },
    {
      "cell_type": "code",
      "source": [
        "# Correlation Heatmap visualization code\n",
        "corr_columns=data[['total_stays','is_canceled', 'lead_time','market_segment', 'distribution_channel','is_repeated_guest','booking_changes', 'deposit_type', 'days_in_waiting_list', 'customer_type', 'adr','required_car_parking_spaces', 'total_of_special_requests', 'reservation_status']]\n",
        "corr_data=corr_columns.corr()\n",
        "plt.figure(figsize=(12,9))\n",
        "sns.heatmap(corr_data,annot=True,cmap=\"crest\",fmt='.2f',linewidth=0.5)\n",
        "plt.show()"
      ],
      "metadata": {
        "id": "xyC9zolEZNRQ",
        "colab": {
          "base_uri": "https://localhost:8080/",
          "height": 694
        },
        "outputId": "09fd53af-caa8-4f3e-8a30-97a86a11cded"
      },
      "execution_count": null,
      "outputs": [
        {
          "output_type": "display_data",
          "data": {
            "text/plain": [
              "<Figure size 864x648 with 2 Axes>"
            ],
            "image/png": "[encoded data removed]"
          },
          "metadata": {}
        }
      ]
    },
    {
      "cell_type": "markdown",
      "source": [
        "##### 1. Why did you pick the specific chart?"
      ],
      "metadata": {
        "id": "UV0SzAkaZNRQ"
      }
    },
    {
      "cell_type": "markdown",
      "source": [
        "To find the correlation between different columns mainly with adr: Average daily rate, to know which factor is influencing the revenue of hotels. "
      ],
      "metadata": {
        "id": "DVPuT8LYZNRQ"
      }
    },
    {
      "cell_type": "markdown",
      "source": [
        "##### 2. What is/are the insight(s) found from the chart?"
      ],
      "metadata": {
        "id": "YPEH6qLeZNRQ"
      }
    },
    {
      "cell_type": "markdown",
      "source": [
        "Average Daily Revenue has slight correlation with total stay and leap time. The total stay and leap time also has slight positive correlation."
      ],
      "metadata": {
        "id": "bfSqtnDqZNRR"
      }
    },
    {
      "cell_type": "markdown",
      "source": [
        "## **5. Solution to Business Objective**"
      ],
      "metadata": {
        "id": "JcMwzZxoAimU"
      }
    },
    {
      "cell_type": "markdown",
      "source": [
        "#### What do you suggest the client to achieve Business Objective ? \n"
      ],
      "metadata": {
        "id": "8G2x9gOozGDZ"
      }
    },
    {
      "cell_type": "markdown",
      "source": [
        "In general, Resort Hotels are far from main city so they should improve their connectivity and also should provide  customers more acccessibility to basic amenities. The meal services must be on-time and should be hygenic in both City  and Resort Hotels. Special requests of various customer types should be fulfilled without any delay which results in a good customer experince due to which they will give good reviews to the hotel and it will help in impacting the more number of repeated guests. Direct, Corporate, Undefined, GDS like market segments should improve their services so that they contribute more in developing revenue for both city and resort hotel.In a calender year it being concluded that August has genereated highest revenue. The months in which revenue is compartively less, the hotels should introduce some offers and discounts to attract the customers, it can be done by doing various surveys via both offline/online mode."
      ],
      "metadata": {
        "id": "pASKb0qOza21"
      }
    },
    {
      "cell_type": "markdown",
      "source": [
        "# **Conclusion**"
      ],
      "metadata": {
        "id": "gCX9965dhzqZ"
      }
    },
    {
      "cell_type": "markdown",
      "source": [
        "1-It's been observed that the City Hotel has more number of booking than resort hotel\n",
        "\n",
        "2-It's been observed that BB is the most demanded Meal in both the hotels\n",
        "\n",
        "3-As we can observe from the graph that the most cancellation is done via TA/TO(Travel Agent/Tour Operator) distrbution Channel\n",
        "\n",
        "4-City Hotel has High Revenue than the Resort Hotel\n",
        "\n",
        "5-August month has highest revenue in both the hotels.\n",
        "\n",
        "6-Portugal(PRT) has most visting guest among all the other countries\n",
        "\n",
        "7-According to our analysis resort hotel has around 11000 cancelled booking and city hotel has around 38000 cancelled booking so we concluded that city hotel has higher cancelled booking than resort hotel\n",
        "\n",
        "8-In both the hotels customers preferred to choose \"No Deposit\" at the time of booking and they choose to deposit at the time of check-in\n",
        "\n",
        "9-Transient customer type has demanded the most special request\n",
        "\n",
        "10-Resort Hotel has more car parking space than City Hotel\n",
        "\n",
        "11-Most no. of booking are done through Online-TA(TA-travel Agent)\n",
        "\n",
        "12-Mostly C:Room type is assigned to the guests so it is providing more revenue compared to other room types. H,E,G,F these room types are also providing good revenue."
      ],
      "metadata": {
        "id": "Fjb1IsQkh3yE"
      }
    },
    {
      "cell_type": "markdown",
      "source": [
        "### ***Hurrah! You have successfully completed your EDA Capstone Project !!!***"
      ],
      "metadata": {
        "id": "gIfDvo9L0UH2"
      }
    }
  ]
}